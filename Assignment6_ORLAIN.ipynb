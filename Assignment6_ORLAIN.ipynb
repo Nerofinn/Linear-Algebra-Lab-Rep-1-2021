{
  "nbformat": 4,
  "nbformat_minor": 0,
  "metadata": {
    "colab": {
      "name": "Laboratory6.ipynb",
      "provenance": [],
      "collapsed_sections": [],
      "authorship_tag": "ABX9TyPm6+rtQSrMzOzj63s/s+Kn",
      "include_colab_link": true
    },
    "kernelspec": {
      "name": "python3",
      "display_name": "Python 3"
    },
    "language_info": {
      "name": "python"
    }
  },
  "cells": [
    {
      "cell_type": "markdown",
      "metadata": {
        "id": "view-in-github",
        "colab_type": "text"
      },
      "source": [
        "<a href=\"https://colab.research.google.com/github/Nerofinn/Linear-Algebra-Lab-Rep-1-2021/blob/main/Assignment6_ORLAIN.ipynb\" target=\"_parent\"><img src=\"https://colab.research.google.com/assets/colab-badge.svg\" alt=\"Open In Colab\"/></a>"
      ]
    },
    {
      "cell_type": "code",
      "metadata": {
        "id": "kHdZQ4WaEf1u"
      },
      "source": [
        ""
      ],
      "execution_count": null,
      "outputs": []
    },
    {
      "cell_type": "markdown",
      "metadata": {
        "id": "8BJ4g99QG84m"
      },
      "source": [
        "## Linear Algebra for ECE\n",
        "\n",
        "Laboratory 6: Matrix Operations"
      ]
    },
    {
      "cell_type": "markdown",
      "metadata": {
        "id": "nQJrst0pEnhW"
      },
      "source": [
        "Now that you have a fundamental knowledge about representing and operating with vectors as well as the fundamentals of matrices, we'll try to the same operations with matrices and even more. "
      ]
    },
    {
      "cell_type": "markdown",
      "metadata": {
        "id": "pHSNCwOOE6QM"
      },
      "source": [
        "## Objectives\n",
        "\n",
        "At the end of this activity you will be able to:\n",
        "1. Be familiar with the fundamental matrix operations.\n",
        "2. Apply the operations to solve intermediate equations.\n",
        "3. Apply matrix algebra in engineering solutions."
      ]
    },
    {
      "cell_type": "markdown",
      "metadata": {
        "id": "9gTfHYyVFPZi"
      },
      "source": [
        "## Discussion"
      ]
    },
    {
      "cell_type": "code",
      "metadata": {
        "id": "quaIqrzrFSIQ"
      },
      "source": [
        "import numpy as np\n",
        "import matplotlib.pyplot as plt\n",
        "%matplotlib inline"
      ],
      "execution_count": 5,
      "outputs": []
    },
    {
      "cell_type": "markdown",
      "metadata": {
        "id": "6MBkD5dCHH_J"
      },
      "source": [
        "## Transposition"
      ]
    },
    {
      "cell_type": "markdown",
      "metadata": {
        "id": "A3Os64uIHJz6"
      },
      "source": [
        "One of the fundamental operations in matrix algebra is Transposition. The transpose of a matrix is done by flipping the values of its elements over its diagonals. With this, the rows and columns from the original matrix will be switched. So for matrix **A** its transpose is denoted as $A^T$. So for example:\n",
        "\n",
        "$$A = \\begin{bmatrix} 1 & 2 & 5\\\\5 & -1 &0 \\\\ 0 & -3 & 3\\end{bmatrix} $$\n"
      ]
    },
    {
      "cell_type": "markdown",
      "metadata": {
        "id": "z0L-MuOfH8CT"
      },
      "source": [
        "This can now be achieved programmatically by using np.transpose() oor using the T method."
      ]
    },
    {
      "cell_type": "code",
      "metadata": {
        "colab": {
          "base_uri": "https://localhost:8080/"
        },
        "id": "oq1TRv_MIEwp",
        "outputId": "80cdb4bd-905c-42b8-a671-6de851b9d6fb"
      },
      "source": [
        "A= np.array([\n",
        "    [1, 2, 5],\n",
        "    [5, -1, 0],\n",
        "    [0, -3, 3]\n",
        "])\n",
        "A"
      ],
      "execution_count": 6,
      "outputs": [
        {
          "output_type": "execute_result",
          "data": {
            "text/plain": [
              "array([[ 1,  2,  5],\n",
              "       [ 5, -1,  0],\n",
              "       [ 0, -3,  3]])"
            ]
          },
          "metadata": {},
          "execution_count": 6
        }
      ]
    },
    {
      "cell_type": "code",
      "metadata": {
        "colab": {
          "base_uri": "https://localhost:8080/"
        },
        "id": "7HCXmMHkIjLw",
        "outputId": "c7d55823-f92a-48a9-e41c-2d020b0aeaf7"
      },
      "source": [
        "AT1 = np.transpose(A)\n",
        "AT1"
      ],
      "execution_count": 7,
      "outputs": [
        {
          "output_type": "execute_result",
          "data": {
            "text/plain": [
              "array([[ 1,  5,  0],\n",
              "       [ 2, -1, -3],\n",
              "       [ 5,  0,  3]])"
            ]
          },
          "metadata": {},
          "execution_count": 7
        }
      ]
    },
    {
      "cell_type": "code",
      "metadata": {
        "colab": {
          "base_uri": "https://localhost:8080/"
        },
        "id": "eRF7sjuwJ7jq",
        "outputId": "0f50adb3-18df-41ec-eccf-92ac5d238193"
      },
      "source": [
        "AT2 = A.T\n",
        "AT2"
      ],
      "execution_count": 8,
      "outputs": [
        {
          "output_type": "execute_result",
          "data": {
            "text/plain": [
              "array([[ 1,  5,  0],\n",
              "       [ 2, -1, -3],\n",
              "       [ 5,  0,  3]])"
            ]
          },
          "metadata": {},
          "execution_count": 8
        }
      ]
    },
    {
      "cell_type": "code",
      "metadata": {
        "colab": {
          "base_uri": "https://localhost:8080/"
        },
        "id": "3eYdiqXkKnmD",
        "outputId": "e158e7be-1693-4fdd-db58-6ec11a5f8c39"
      },
      "source": [
        "np.array_equiv(AT1, AT2)"
      ],
      "execution_count": 9,
      "outputs": [
        {
          "output_type": "execute_result",
          "data": {
            "text/plain": [
              "True"
            ]
          },
          "metadata": {},
          "execution_count": 9
        }
      ]
    },
    {
      "cell_type": "code",
      "metadata": {
        "colab": {
          "base_uri": "https://localhost:8080/"
        },
        "id": "k8M14zPJKue7",
        "outputId": "fd408266-01bb-47e4-ee4c-c727e0683741"
      },
      "source": [
        "B = np.array([\n",
        "    [1, 2, 3, 4],\n",
        "    [1, 0, 2, 1],\n",
        "])\n",
        "B.shape"
      ],
      "execution_count": 11,
      "outputs": [
        {
          "output_type": "execute_result",
          "data": {
            "text/plain": [
              "(2, 4)"
            ]
          },
          "metadata": {},
          "execution_count": 11
        }
      ]
    },
    {
      "cell_type": "code",
      "metadata": {
        "colab": {
          "base_uri": "https://localhost:8080/"
        },
        "id": "22aq_d2kK8bI",
        "outputId": "04cceaff-6a57-49a6-e4a6-fa3ece70e35c"
      },
      "source": [
        "np.transpose(B).shape"
      ],
      "execution_count": 12,
      "outputs": [
        {
          "output_type": "execute_result",
          "data": {
            "text/plain": [
              "(4, 2)"
            ]
          },
          "metadata": {},
          "execution_count": 12
        }
      ]
    },
    {
      "cell_type": "code",
      "metadata": {
        "colab": {
          "base_uri": "https://localhost:8080/"
        },
        "id": "_intOz-wLKQP",
        "outputId": "624bb869-c621-4ff4-cfed-ab74b05280cf"
      },
      "source": [
        "B.T. shape"
      ],
      "execution_count": null,
      "outputs": [
        {
          "output_type": "execute_result",
          "data": {
            "text/plain": [
              "(4, 2)"
            ]
          },
          "metadata": {},
          "execution_count": 16
        }
      ]
    },
    {
      "cell_type": "markdown",
      "metadata": {
        "id": "y66LzxcLLO_0"
      },
      "source": [
        "## Try to create your own matrix (you can try non-squares) to test transposition."
      ]
    },
    {
      "cell_type": "code",
      "metadata": {
        "colab": {
          "base_uri": "https://localhost:8080/"
        },
        "id": "mmfDH9bzLi5D",
        "outputId": "7ee320f8-55af-4cd8-a27f-add91bc0add0"
      },
      "source": [
        "A=np.array([\n",
        "    [2, 4, 6],\n",
        "    [1, 2, 3],\n",
        "    [0, 1, 2],\n",
        "    [9, 8, 7]        \n",
        "])\n",
        "A.shape\n"
      ],
      "execution_count": null,
      "outputs": [
        {
          "output_type": "execute_result",
          "data": {
            "text/plain": [
              "(4, 3)"
            ]
          },
          "metadata": {},
          "execution_count": 23
        }
      ]
    },
    {
      "cell_type": "code",
      "metadata": {
        "colab": {
          "base_uri": "https://localhost:8080/"
        },
        "id": "21eY867JMdy5",
        "outputId": "74a2eed5-5ee4-4e46-d632-379e5191d14b"
      },
      "source": [
        "np.transpose(A).shape\n"
      ],
      "execution_count": null,
      "outputs": [
        {
          "output_type": "execute_result",
          "data": {
            "text/plain": [
              "(3, 4)"
            ]
          },
          "metadata": {},
          "execution_count": 24
        }
      ]
    },
    {
      "cell_type": "code",
      "metadata": {
        "colab": {
          "base_uri": "https://localhost:8080/"
        },
        "id": "Uods_L9PMgFB",
        "outputId": "6b12517c-8854-4b8f-9567-47d447750872"
      },
      "source": [
        "A.T.shape"
      ],
      "execution_count": null,
      "outputs": [
        {
          "output_type": "execute_result",
          "data": {
            "text/plain": [
              "(3, 4)"
            ]
          },
          "metadata": {},
          "execution_count": 25
        }
      ]
    },
    {
      "cell_type": "markdown",
      "metadata": {
        "id": "QahHKWFYLmqB"
      },
      "source": [
        "## Dot Product/ Inner Product"
      ]
    },
    {
      "cell_type": "markdown",
      "metadata": {
        "id": "i0N3H9uZNzj4"
      },
      "source": [
        "If you recall the dot product from laboratory activity before, we will try to implement the same operation with matrices. In matrix dot product we are going to get the sum of products of the vectors by row-column pairs. So if we have two matrices ***X*** and ***Y***:\n",
        "\n",
        "$$X = \\begin{bmatrix}x_{(0,0)}&x_{(0,1)}\\\\ x_{(1,0)}&x_{(1,1)}\\end{bmatrix}, Y = \\begin{bmatrix}y_{(0,0)}&y_{(0,1)}\\\\ y_{(1,0)}&y_{(1,1)}\\end{bmatrix}$$\n",
        "\n",
        "The dot product will then be computed as:\n",
        "$$X \\cdot Y= \\begin{bmatrix} x_{(0,0)}*y_{(0,0)} + x_{(0,1)}*y_{(1,0)} & x_{(0,0)}*y_{(0,1)} + x_{(0,1)}*y_{(1,1)} \\\\  x_{(1,0)}*y_{(0,0)} + x_{(1,1)}*y_{(1,0)} & x_{(1,0)}*y_{(0,1)} + x_{(1,1)}*y_{(1,1)}\n",
        "\\end{bmatrix}$$\n",
        "\n",
        "So if we assign values to ***X*** and ***Y***:\n",
        "$$X = \\begin{bmatrix}1&2\\\\ 0&1\\end{bmatrix}, Y = \\begin{bmatrix}-1&0\\\\ 2&2\\end{bmatrix}$$\n",
        "\n",
        "This could be achieved programmatically using np.dot (), np.matmul() or the @operator.\n",
        "\n",
        "\n",
        "\n",
        "\n"
      ]
    },
    {
      "cell_type": "markdown",
      "metadata": {
        "id": "4adzql2sN9Qr"
      },
      "source": [
        ""
      ]
    },
    {
      "cell_type": "code",
      "metadata": {
        "id": "_foU5MT4OJOi"
      },
      "source": [
        "A = np.array([\n",
        "    [1, 2],\n",
        "    [0, 1],\n",
        "])\n",
        "J = np.array([\n",
        "    [-1, 0],\n",
        "    [2, 2],\n",
        "])"
      ],
      "execution_count": null,
      "outputs": []
    },
    {
      "cell_type": "code",
      "metadata": {
        "colab": {
          "base_uri": "https://localhost:8080/"
        },
        "id": "BovK_2hcOl7Z",
        "outputId": "080b7445-77a3-4e1e-b1a3-3c28e0e5ab55"
      },
      "source": [
        "np.dot(A,J)"
      ],
      "execution_count": null,
      "outputs": [
        {
          "output_type": "execute_result",
          "data": {
            "text/plain": [
              "array([[3, 4],\n",
              "       [2, 2]])"
            ]
          },
          "metadata": {},
          "execution_count": 40
        }
      ]
    },
    {
      "cell_type": "code",
      "metadata": {
        "colab": {
          "base_uri": "https://localhost:8080/"
        },
        "id": "BDfvBnjGOqOL",
        "outputId": "0319d135-a63d-46e7-dd55-cd45751b2fa1"
      },
      "source": [
        "A.dot(J)"
      ],
      "execution_count": null,
      "outputs": [
        {
          "output_type": "execute_result",
          "data": {
            "text/plain": [
              "array([[3, 4],\n",
              "       [2, 2]])"
            ]
          },
          "metadata": {},
          "execution_count": 41
        }
      ]
    },
    {
      "cell_type": "code",
      "metadata": {
        "colab": {
          "base_uri": "https://localhost:8080/"
        },
        "id": "BCqPDC1cOt10",
        "outputId": "d28f9d44-ce41-45f0-ef06-745df80f486f"
      },
      "source": [
        "A @ J"
      ],
      "execution_count": null,
      "outputs": [
        {
          "output_type": "execute_result",
          "data": {
            "text/plain": [
              "array([[3, 4],\n",
              "       [2, 2]])"
            ]
          },
          "metadata": {},
          "execution_count": 42
        }
      ]
    },
    {
      "cell_type": "code",
      "metadata": {
        "colab": {
          "base_uri": "https://localhost:8080/"
        },
        "id": "aE0F054GOw3O",
        "outputId": "d08da945-ab79-4220-96fa-1a79275411ff"
      },
      "source": [
        "np.matmul(A,J)"
      ],
      "execution_count": null,
      "outputs": [
        {
          "output_type": "execute_result",
          "data": {
            "text/plain": [
              "array([[3, 4],\n",
              "       [2, 2]])"
            ]
          },
          "metadata": {},
          "execution_count": 43
        }
      ]
    },
    {
      "cell_type": "markdown",
      "metadata": {
        "id": "SM2towIVOz3e"
      },
      "source": [
        "In matrix dot products there are additional rules compared with vector dot products. Since vector dot products were just in one dimension there are less restrictions. Since now we are dealing with Rank 2 vectors we need to consider some rules:"
      ]
    },
    {
      "cell_type": "markdown",
      "metadata": {
        "id": "MUhQ7jqdP9Ab"
      },
      "source": [
        "## Rule 1: The inner dimensions of the two matrices in question must be the same.\n",
        "\n",
        "So given a matrix **A** with a shape of (a,b) where a and b are any integers. If we want to do a dot product between ***A*** and another matrix ***B***, then matrix ***B*** should have a shape of (b,c) where b and c are any integers. So for given the following matrices:\n",
        "\n",
        "$$A = \\begin{bmatrix}2&4\\\\5&-2\\\\0&1\\end{bmatrix}, B = \\begin{bmatrix}1&1\\\\3&3\\\\-1&-2\\end{bmatrix}, C = \\begin{bmatrix}0&1&1\\\\1&1&2\\end{bmatrix}$$\n",
        "\n",
        "So in this case **A** has a (3,2), B has a shape of (3,2,) and C has a shape of (2,3). So  the only matrix pairs that is eligible to perform dot product is matrices $A \\cdot C$, or $B \\cdot C$.  "
      ]
    },
    {
      "cell_type": "markdown",
      "metadata": {
        "id": "8GwBCq5rQyTC"
      },
      "source": [
        ""
      ]
    },
    {
      "cell_type": "code",
      "metadata": {
        "colab": {
          "base_uri": "https://localhost:8080/"
        },
        "id": "0VKfIODjQxDe",
        "outputId": "2dbb9007-a0c5-48ae-f4d2-bf3b029bd6db"
      },
      "source": [
        "A = np.array([\n",
        "    [2, 3],\n",
        "    [1, 2],\n",
        "    [0, 2]\n",
        "])\n",
        "J = np.array([\n",
        "    [1, 2, 3],\n",
        "    [0, 2, 4]\n",
        "])\n",
        "O = np.array([\n",
        "    [1, 2],\n",
        "    [3, 4],\n",
        "    [5, 6]\n",
        "])\n",
        "print(A.shape)\n",
        "print(J.shape)\n",
        "print(O.shape)"
      ],
      "execution_count": null,
      "outputs": [
        {
          "output_type": "stream",
          "name": "stdout",
          "text": [
            "(3, 2)\n",
            "(2, 3)\n",
            "(3, 2)\n"
          ]
        }
      ]
    },
    {
      "cell_type": "code",
      "metadata": {
        "colab": {
          "base_uri": "https://localhost:8080/"
        },
        "id": "HjFm152vRgZw",
        "outputId": "acdc4b14-cab4-479a-f708-41ea5d1480fe"
      },
      "source": [
        "A @ J"
      ],
      "execution_count": null,
      "outputs": [
        {
          "output_type": "execute_result",
          "data": {
            "text/plain": [
              "array([[ 2, 10, 18],\n",
              "       [ 1,  6, 11],\n",
              "       [ 0,  4,  8]])"
            ]
          },
          "metadata": {},
          "execution_count": 46
        }
      ]
    },
    {
      "cell_type": "code",
      "metadata": {
        "colab": {
          "base_uri": "https://localhost:8080/"
        },
        "id": "64mQ1ebKRoKn",
        "outputId": "64042fd0-eed7-4a47-b942-ade3a844c3ab"
      },
      "source": [
        "J @ O"
      ],
      "execution_count": null,
      "outputs": [
        {
          "output_type": "execute_result",
          "data": {
            "text/plain": [
              "array([[22, 28],\n",
              "       [26, 32]])"
            ]
          },
          "metadata": {},
          "execution_count": 47
        }
      ]
    },
    {
      "cell_type": "markdown",
      "metadata": {
        "id": "uqsuEtTzRws5"
      },
      "source": [
        ""
      ]
    },
    {
      "cell_type": "code",
      "metadata": {
        "colab": {
          "base_uri": "https://localhost:8080/"
        },
        "id": "bxyTIpNRSAjE",
        "outputId": "a10c803d-43a2-4bd2-9e0a-78e1240dcd1d"
      },
      "source": [
        "X = np.array([\n",
        "    [1, 2, 3, 0]\n",
        "])\n",
        "Y = np.array([\n",
        "    [1, 0, -4, 1]\n",
        "])\n",
        "print(X.shape)\n",
        "print(Y.shape)"
      ],
      "execution_count": null,
      "outputs": [
        {
          "output_type": "stream",
          "name": "stdout",
          "text": [
            "(1, 4)\n",
            "(1, 4)\n"
          ]
        }
      ]
    },
    {
      "cell_type": "code",
      "metadata": {
        "colab": {
          "base_uri": "https://localhost:8080/"
        },
        "id": "03Ye9KwbSrPU",
        "outputId": "0d63b5b2-caf3-440e-dd1e-d0c1b20c3dbf"
      },
      "source": [
        "Y.T @ X"
      ],
      "execution_count": null,
      "outputs": [
        {
          "output_type": "execute_result",
          "data": {
            "text/plain": [
              "array([[  1,   2,   3,   0],\n",
              "       [  0,   0,   0,   0],\n",
              "       [ -4,  -8, -12,   0],\n",
              "       [  1,   2,   3,   0]])"
            ]
          },
          "metadata": {},
          "execution_count": 50
        }
      ]
    },
    {
      "cell_type": "code",
      "metadata": {
        "colab": {
          "base_uri": "https://localhost:8080/"
        },
        "id": "t62SWrCaSxNw",
        "outputId": "a1117f23-a713-4552-faff-749d941e6a68"
      },
      "source": [
        "X @ Y.T"
      ],
      "execution_count": null,
      "outputs": [
        {
          "output_type": "execute_result",
          "data": {
            "text/plain": [
              "array([[-11]])"
            ]
          },
          "metadata": {},
          "execution_count": 51
        }
      ]
    },
    {
      "cell_type": "markdown",
      "metadata": {
        "id": "avCr5H86S3vY"
      },
      "source": [
        "## Rule 2: Dot Product has special properties\n",
        "\n",
        "Dot products are prevalent in matrix algebra, this implies that it has several unique properties and it should be considered when formulation solutions:\n",
        "1. $A \\cdot B \\neq B \\cdot A$\n",
        "2. $A \\cdot (B \\cdot C) = (A \\cdot B) \\cdot C$\n",
        "3. $A\\cdot(B+C) = A\\cdot B + A\\cdot C$\n",
        "4. $(B+C)\\cdot A = B\\cdot A +C\\cdot A$\n",
        "5. $A\\cdot I = A$\n",
        "6. $A\\cdot \\emptyset = \\emptyset$\n"
      ]
    },
    {
      "cell_type": "code",
      "metadata": {
        "colab": {
          "base_uri": "https://localhost:8080/"
        },
        "id": "0isrQ63MS80m",
        "outputId": "57ed5f35-4f87-4d41-aef7-1d85f3113086"
      },
      "source": [
        "A = np.array([\n",
        "    [1, 2, 3],\n",
        "    [2, 4, 6],\n",
        "    [3, 6, 9]\n",
        "])\n",
        "B = np.array([\n",
        "    [1, 2, 3],\n",
        "    [0, 1, 2],\n",
        "    [1, 3, 5]\n",
        "])\n",
        "C = np.array([\n",
        "    [1, 2, 3],\n",
        "    [4, 5, 6],\n",
        "    [7, 8, 9]\n",
        "])"
      ],
      "execution_count": null,
      "outputs": [
        {
          "output_type": "stream",
          "name": "stdout",
          "text": [
            "(3, 3)\n",
            "(3, 3)\n",
            "(3, 3)\n"
          ]
        }
      ]
    },
    {
      "cell_type": "code",
      "metadata": {
        "colab": {
          "base_uri": "https://localhost:8080/"
        },
        "id": "JytIO9pQXJJh",
        "outputId": "9c276ea1-bd66-47e8-b8a7-f1ae497b1753"
      },
      "source": [
        "np.array_equiv(A@B, B@A)"
      ],
      "execution_count": null,
      "outputs": [
        {
          "output_type": "execute_result",
          "data": {
            "text/plain": [
              "False"
            ]
          },
          "metadata": {},
          "execution_count": 54
        }
      ]
    },
    {
      "cell_type": "code",
      "metadata": {
        "colab": {
          "base_uri": "https://localhost:8080/"
        },
        "id": "nRJmxSnhXUIX",
        "outputId": "0fbcac72-c5f0-41be-dbdb-1f29ebaa31aa"
      },
      "source": [
        "E = A @ (B @ C)\n",
        "E"
      ],
      "execution_count": null,
      "outputs": [
        {
          "output_type": "execute_result",
          "data": {
            "text/plain": [
              "array([[210, 249, 288],\n",
              "       [420, 498, 576],\n",
              "       [630, 747, 864]])"
            ]
          },
          "metadata": {},
          "execution_count": 55
        }
      ]
    },
    {
      "cell_type": "code",
      "metadata": {
        "colab": {
          "base_uri": "https://localhost:8080/"
        },
        "id": "-O2Gq_MgXdIO",
        "outputId": "16a70160-3ff5-4b1c-db0d-64022924cb0a"
      },
      "source": [
        "F = (A@B) @ C\n",
        "F"
      ],
      "execution_count": null,
      "outputs": [
        {
          "output_type": "execute_result",
          "data": {
            "text/plain": [
              "array([[210, 249, 288],\n",
              "       [420, 498, 576],\n",
              "       [630, 747, 864]])"
            ]
          },
          "metadata": {},
          "execution_count": 56
        }
      ]
    },
    {
      "cell_type": "code",
      "metadata": {
        "colab": {
          "base_uri": "https://localhost:8080/"
        },
        "id": "WF0yh_KRXkkJ",
        "outputId": "dc4bb0f3-7c97-45c8-c8d0-7440d05b5859"
      },
      "source": [
        "np.array_equiv(E,F)"
      ],
      "execution_count": null,
      "outputs": [
        {
          "output_type": "execute_result",
          "data": {
            "text/plain": [
              "True"
            ]
          },
          "metadata": {},
          "execution_count": 57
        }
      ]
    },
    {
      "cell_type": "code",
      "metadata": {
        "colab": {
          "base_uri": "https://localhost:8080/"
        },
        "id": "ivLJumfpYMoy",
        "outputId": "375ddca0-2b8e-457b-edf6-2889f94fe6b6"
      },
      "source": [
        "np.identity(3)"
      ],
      "execution_count": null,
      "outputs": [
        {
          "output_type": "execute_result",
          "data": {
            "text/plain": [
              "array([[1., 0., 0.],\n",
              "       [0., 1., 0.],\n",
              "       [0., 0., 1.]])"
            ]
          },
          "metadata": {},
          "execution_count": 59
        }
      ]
    },
    {
      "cell_type": "code",
      "metadata": {
        "colab": {
          "base_uri": "https://localhost:8080/"
        },
        "id": "oTUHz0cVYrt2",
        "outputId": "3c8da7e9-5e12-4116-b514-65a3da349535"
      },
      "source": [
        "A.dot(np.eye(3))"
      ],
      "execution_count": null,
      "outputs": [
        {
          "output_type": "execute_result",
          "data": {
            "text/plain": [
              "array([[1., 2., 3.],\n",
              "       [2., 4., 6.],\n",
              "       [3., 6., 9.]])"
            ]
          },
          "metadata": {},
          "execution_count": 60
        }
      ]
    },
    {
      "cell_type": "markdown",
      "metadata": {
        "id": "it65VkLsY_f8"
      },
      "source": [
        "## Determinant\n",
        "\n",
        "A determinant is a scalar value derived from a square matrix. The determinant is a fundamental and important value used in matrix algebra. Although it will not be evident in this laboratory on how it can be used practically, but it will be reatly used in future lessons.\n",
        "\n",
        "The determinant of some matrix $A$ is denoted as $det(A)$ or $|A|$. So let's say $A$ is represented as:\n",
        "$$A = \\begin{bmatrix}a_{(0,0)}&a_{(0,1)}\\\\a_{(1,0)}&a_{(1,1)}\\end{bmatrix}$$\n",
        "We can compute for the determinant as:\n",
        "$$|A| = a_{(0,0)}*a_{(1,1)} - a_{(1,0)}*a_{(0,1)}$$\n",
        "So if we have $A$ as:\n",
        "$$A = \\begin{bmatrix}1&4\\\\0&3\\end{bmatrix}, |A| = 3$$\n",
        "\n",
        "But you might wonder how about square matrices beyond the shape $(2,2)$? We can approach this problem by using several methods such as co-factor expansion and the minors method. This can be taught in the lecture of the laboratory but we can achieve the strenuous computation of high-dimensional matrices programmatically using Python. We can achieve this by using `np.linalg.det()`."
      ]
    },
    {
      "cell_type": "code",
      "metadata": {
        "colab": {
          "base_uri": "https://localhost:8080/"
        },
        "id": "aJfn2ckiZLNR",
        "outputId": "c5e0badc-aa4c-4f29-a0e0-7fe38121ac02"
      },
      "source": [
        "A = np.array([\n",
        "    [1,4],\n",
        "    [0,3]\n",
        "])\n",
        "np.linalg.det(A)"
      ],
      "execution_count": null,
      "outputs": [
        {
          "output_type": "execute_result",
          "data": {
            "text/plain": [
              "3.0000000000000004"
            ]
          },
          "metadata": {},
          "execution_count": 61
        }
      ]
    },
    {
      "cell_type": "code",
      "metadata": {
        "colab": {
          "base_uri": "https://localhost:8080/"
        },
        "id": "NWITeqQdZbfN",
        "outputId": "f8e49368-5693-432c-d6fa-1dbb53da9a3f"
      },
      "source": [
        "B = np.array([\n",
        "    [1, 5, 2],\n",
        "    [3, -1, -1],\n",
        "    [0, -2, 1]\n",
        "])\n",
        "np.linalg.det(B)"
      ],
      "execution_count": null,
      "outputs": [
        {
          "output_type": "execute_result",
          "data": {
            "text/plain": [
              "-30.000000000000014"
            ]
          },
          "metadata": {},
          "execution_count": 63
        }
      ]
    },
    {
      "cell_type": "code",
      "metadata": {
        "colab": {
          "base_uri": "https://localhost:8080/"
        },
        "id": "veyMxQYdZ0N8",
        "outputId": "874c711b-21b7-40b7-c008-2aee9dd62c21"
      },
      "source": [
        "## Now other mathematics classes would require you asdasdasd\n",
        "\n",
        "\n",
        "\n",
        "\n",
        "\n",
        "B = np.array([\n",
        "    [1, 3, 5, 6],\n",
        "    [0, 3, 1, 3],\n",
        "    [3, 1, 8, 2],\n",
        "    [5, 2, 6, 8]\n",
        "])\n",
        "np.linalg.det(B)"
      ],
      "execution_count": null,
      "outputs": [
        {
          "output_type": "execute_result",
          "data": {
            "text/plain": [
              "-235.0000000000002"
            ]
          },
          "metadata": {},
          "execution_count": 64
        }
      ]
    },
    {
      "cell_type": "markdown",
      "metadata": {
        "id": "bX1cURquaIO1"
      },
      "source": [
        "## Inverse"
      ]
    },
    {
      "cell_type": "markdown",
      "metadata": {
        "id": "az1ZSs46aKGU"
      },
      "source": [
        "The inverse of a matrix is another fundamental operation in matrix algebra. Determining the inverse of a matrix let us determine if its solvability and its characteristic as a system of linear equation — we'll expand on this in the nect module. Another use of the inverse matrix is solving the problem of divisibility between matrices. Although element-wise division exists but dividing the entire concept of matrices does not exists. Inverse matrices provides a related operation that could have the same concept of \"dividing\" matrices.\n",
        "\n",
        "Now to determine the inverse of a matrix we need to perform several steps. So let's say we have a matrix $M$:\n",
        "$$M = \\begin{bmatrix}1&7\\\\-3&5\\end{bmatrix}$$\n",
        "First, we need to get the determinant of $M$.\n",
        "$$|M| = (1)(5)-(-3)(7) = 26$$\n",
        "Next, we need to reform the matrix into the inverse form:\n",
        "$$M^{-1} = \\frac{1}{|M|} \\begin{bmatrix} m_{(1,1)} & -m_{(0,1)} \\\\ -m_{(1,0)} & m_{(0,0)}\\end{bmatrix}$$\n",
        "So that will be:\n",
        "$$M^{-1} = \\frac{1}{26} \\begin{bmatrix} 5 & -7 \\\\ 3 & 1\\end{bmatrix} = \\begin{bmatrix} \\frac{5}{26} & \\frac{-7}{26} \\\\ \\frac{3}{26} & \\frac{1}{26}\\end{bmatrix}$$\n",
        "For higher-dimension matrices you might need to use co-factors, minors, adjugates, and other reduction techinques. To solve this programmatially we can use `np.linalg.inv()`."
      ]
    },
    {
      "cell_type": "code",
      "metadata": {
        "colab": {
          "base_uri": "https://localhost:8080/"
        },
        "id": "SHKrMaUSaaTR",
        "outputId": "7fb03ba0-7e10-4dac-81d6-dfd237358535"
      },
      "source": [
        "M = np.array([\n",
        "    [1, 7],\n",
        "    [-3, 5]\n",
        "])\n",
        "np.array(M @ np.linalg.inv(M), dtype=int)"
      ],
      "execution_count": null,
      "outputs": [
        {
          "output_type": "execute_result",
          "data": {
            "text/plain": [
              "array([[1, 0],\n",
              "       [0, 1]])"
            ]
          },
          "metadata": {},
          "execution_count": 65
        }
      ]
    },
    {
      "cell_type": "code",
      "metadata": {
        "colab": {
          "base_uri": "https://localhost:8080/"
        },
        "id": "4eSTFitIapXl",
        "outputId": "6b3589ae-71ff-4b61-d814-7b1a4b0603b7"
      },
      "source": [
        "P = np.array([\n",
        "    [6, 9, 0],\n",
        "    [4, 2, -1],\n",
        "    [5, 6, 7]\n",
        "])\n",
        "Q= np.linalg.inv(P)\n",
        "Q"
      ],
      "execution_count": null,
      "outputs": [
        {
          "output_type": "execute_result",
          "data": {
            "text/plain": [
              "array([[-0.11299435,  0.3559322 ,  0.05084746],\n",
              "       [ 0.18644068, -0.23728814, -0.03389831],\n",
              "       [-0.07909605, -0.05084746,  0.13559322]])"
            ]
          },
          "metadata": {},
          "execution_count": 71
        }
      ]
    },
    {
      "cell_type": "code",
      "metadata": {
        "colab": {
          "base_uri": "https://localhost:8080/"
        },
        "id": "JXrD3fJta9lU",
        "outputId": "5eba42cd-13e2-45c5-8fd0-064f4c11509f"
      },
      "source": [
        "np.array(P @ Q, dtype=int)"
      ],
      "execution_count": null,
      "outputs": [
        {
          "output_type": "execute_result",
          "data": {
            "text/plain": [
              "array([[1, 0, 0],\n",
              "       [0, 0, 0],\n",
              "       [0, 0, 1]])"
            ]
          },
          "metadata": {},
          "execution_count": 72
        }
      ]
    },
    {
      "cell_type": "code",
      "metadata": {
        "id": "EXMmhV4mb9vs"
      },
      "source": [
        ""
      ],
      "execution_count": null,
      "outputs": []
    },
    {
      "cell_type": "markdown",
      "metadata": {
        "id": "cO1RM2budJHO"
      },
      "source": [
        "## Activity"
      ]
    },
    {
      "cell_type": "markdown",
      "metadata": {
        "id": "EY830CM_dK35"
      },
      "source": [
        "## Task 1\n",
        "\n",
        "Prove and implement the remaining 6 matrix multiplication properties. You may create your own matrices in which their shapes should not be lower than  (3,3) . In your methodology, create individual flowcharts for each property and discuss the property you would then present your proofs or validity of your implementation in the results section by comparing your result to present functions from NumPy."
      ]
    },
    {
      "cell_type": "code",
      "metadata": {
        "id": "TWiMqjPS2r2N"
      },
      "source": [
        "import numpy as np\n",
        "import matplotlib.pyplot as plt\n",
        "%matplotlib inline"
      ],
      "execution_count": 17,
      "outputs": []
    },
    {
      "cell_type": "code",
      "metadata": {
        "id": "OdCwQQg4vIXo"
      },
      "source": [
        "F = np.array([\n",
        "    [1, 2, 3],\n",
        "    [2, 4, 6],\n",
        "    [3, 6, 9]\n",
        "])\n",
        "I = np.array([\n",
        "    [1, 2, 3],\n",
        "    [3, 6, 9],\n",
        "    [1, 3, 5]\n",
        "])\n",
        "N = np.array([\n",
        "    [1, 2, 3],\n",
        "    [4, 5, 6],\n",
        "    [7, 8, 9]\n",
        "])"
      ],
      "execution_count": 18,
      "outputs": []
    },
    {
      "cell_type": "markdown",
      "metadata": {
        "id": "4ZP0E0Ss8gaY"
      },
      "source": [
        "1.$A \\cdot B \\neq B \\cdot A$"
      ]
    },
    {
      "cell_type": "code",
      "metadata": {
        "colab": {
          "base_uri": "https://localhost:8080/"
        },
        "id": "oufgPtfGxj7I",
        "outputId": "d5c78d57-73d6-40c3-878f-f0fd64c88ace"
      },
      "source": [
        "np.dot(F,I)"
      ],
      "execution_count": 20,
      "outputs": [
        {
          "output_type": "execute_result",
          "data": {
            "text/plain": [
              "array([[ 10,  23,  36],\n",
              "       [ 20,  46,  72],\n",
              "       [ 30,  69, 108]])"
            ]
          },
          "metadata": {},
          "execution_count": 20
        }
      ]
    },
    {
      "cell_type": "code",
      "metadata": {
        "colab": {
          "base_uri": "https://localhost:8080/"
        },
        "id": "U26y8JqO58V1",
        "outputId": "41d51575-9b0c-40e9-97c3-005051098a08"
      },
      "source": [
        "np.dot(I,F)"
      ],
      "execution_count": 21,
      "outputs": [
        {
          "output_type": "execute_result",
          "data": {
            "text/plain": [
              "array([[ 14,  28,  42],\n",
              "       [ 42,  84, 126],\n",
              "       [ 22,  44,  66]])"
            ]
          },
          "metadata": {},
          "execution_count": 21
        }
      ]
    },
    {
      "cell_type": "markdown",
      "metadata": {
        "id": "fAHrfADA8kNd"
      },
      "source": [
        "2. $A \\cdot (B \\cdot C) = (A \\cdot B) \\cdot C$"
      ]
    },
    {
      "cell_type": "code",
      "metadata": {
        "id": "Zdl5d4F36Wen"
      },
      "source": [
        "M=np.dot(I,N)\n",
        "O=np.dot(F,I)\n",
        "P=np.dot(F,M)\n",
        "Q=np.dot(O,N)"
      ],
      "execution_count": 29,
      "outputs": []
    },
    {
      "cell_type": "code",
      "metadata": {
        "colab": {
          "base_uri": "https://localhost:8080/"
        },
        "id": "HJGUKmFw6wQD",
        "outputId": "f07733f5-0e42-4a8e-8a2d-6ae9b3a01d08"
      },
      "source": [
        "print(P)"
      ],
      "execution_count": 32,
      "outputs": [
        {
          "output_type": "stream",
          "name": "stdout",
          "text": [
            "[[ 1640  3772  5904]\n",
            " [ 3280  7544 11808]\n",
            " [ 4920 11316 17712]]\n"
          ]
        }
      ]
    },
    {
      "cell_type": "code",
      "metadata": {
        "colab": {
          "base_uri": "https://localhost:8080/"
        },
        "id": "1h6kW5Y16_DS",
        "outputId": "84915839-993d-47e1-b791-87330b160120"
      },
      "source": [
        "print(Q)"
      ],
      "execution_count": 33,
      "outputs": [
        {
          "output_type": "stream",
          "name": "stdout",
          "text": [
            "[[ 1640  3772  5904]\n",
            " [ 3280  7544 11808]\n",
            " [ 4920 11316 17712]]\n"
          ]
        }
      ]
    },
    {
      "cell_type": "markdown",
      "metadata": {
        "id": "64C8aWN18mi0"
      },
      "source": [
        "3. $A\\cdot(B+C) = A\\cdot B + A\\cdot C$"
      ]
    },
    {
      "cell_type": "code",
      "metadata": {
        "colab": {
          "base_uri": "https://localhost:8080/"
        },
        "id": "VB4Ksmng7jR0",
        "outputId": "c27410bd-a3ac-40ed-9743-9173b19ddea5"
      },
      "source": [
        "D= I+N\n",
        "print(D)"
      ],
      "execution_count": 34,
      "outputs": [
        {
          "output_type": "stream",
          "name": "stdout",
          "text": [
            "[[ 11  25  39]\n",
            " [ 23  52  81]\n",
            " [ 31  72 113]]\n"
          ]
        }
      ]
    },
    {
      "cell_type": "code",
      "metadata": {
        "colab": {
          "base_uri": "https://localhost:8080/"
        },
        "id": "-PfDUYCr7q-x",
        "outputId": "ac79906a-e928-492d-abf2-750d5c5030fb"
      },
      "source": [
        "np.dot(F,D)"
      ],
      "execution_count": 35,
      "outputs": [
        {
          "output_type": "execute_result",
          "data": {
            "text/plain": [
              "array([[ 150,  345,  540],\n",
              "       [ 300,  690, 1080],\n",
              "       [ 450, 1035, 1620]])"
            ]
          },
          "metadata": {},
          "execution_count": 35
        }
      ]
    },
    {
      "cell_type": "code",
      "metadata": {
        "colab": {
          "base_uri": "https://localhost:8080/"
        },
        "id": "pPWmoJee7u-T",
        "outputId": "f12ece6a-0e55-42ba-af70-3e0d46dc528a"
      },
      "source": [
        "E=np.dot(F,I)\n",
        "print(E)"
      ],
      "execution_count": 38,
      "outputs": [
        {
          "output_type": "stream",
          "name": "stdout",
          "text": [
            "[[ 10  23  36]\n",
            " [ 20  46  72]\n",
            " [ 30  69 108]]\n"
          ]
        }
      ]
    },
    {
      "cell_type": "code",
      "metadata": {
        "colab": {
          "base_uri": "https://localhost:8080/"
        },
        "id": "FUybrPkI8AU9",
        "outputId": "8a2b36a8-2988-4964-cc11-5dc74f9e4371"
      },
      "source": [
        "F=np.dot(F,N)\n",
        "print(F)"
      ],
      "execution_count": 41,
      "outputs": [
        {
          "output_type": "stream",
          "name": "stdout",
          "text": [
            "[[ 22960  52808  82656]\n",
            " [ 45920 105616 165312]\n",
            " [ 68880 158424 247968]]\n"
          ]
        }
      ]
    },
    {
      "cell_type": "code",
      "metadata": {
        "colab": {
          "base_uri": "https://localhost:8080/"
        },
        "id": "DBNZBZuI8HmC",
        "outputId": "9f772132-b6e8-4b02-ff3d-37e1e4a8136a"
      },
      "source": [
        "E+F"
      ],
      "execution_count": 42,
      "outputs": [
        {
          "output_type": "execute_result",
          "data": {
            "text/plain": [
              "array([[ 22970,  52831,  82692],\n",
              "       [ 45940, 105662, 165384],\n",
              "       [ 68910, 158493, 248076]])"
            ]
          },
          "metadata": {},
          "execution_count": 42
        }
      ]
    },
    {
      "cell_type": "markdown",
      "metadata": {
        "id": "WzofB2mv8qoR"
      },
      "source": [
        "4. $(B+C)\\cdot A = B\\cdot A +C\\cdot A$"
      ]
    },
    {
      "cell_type": "code",
      "metadata": {
        "colab": {
          "base_uri": "https://localhost:8080/"
        },
        "id": "FTL-dS6g8Wdh",
        "outputId": "b787dcb4-c975-46bd-a553-a2ee224b1dfa"
      },
      "source": [
        "np.dot((I,N),F)"
      ],
      "execution_count": 43,
      "outputs": [
        {
          "output_type": "execute_result",
          "data": {
            "text/plain": [
              "array([[[  321440,   739312,  1157184],\n",
              "        [  964320,  2217936,  3471552],\n",
              "        [  505120,  1161776,  1818432]],\n",
              "\n",
              "       [[ 3765440,  8660512, 13555584],\n",
              "        [ 7530880, 17321024, 27111168],\n",
              "        [11296320, 25981536, 40666752]]])"
            ]
          },
          "metadata": {},
          "execution_count": 43
        }
      ]
    },
    {
      "cell_type": "code",
      "metadata": {
        "id": "m42Hgg2I81Eq"
      },
      "source": [
        "G=np.dot(I,F)\n",
        "H=np.dot(N,F)"
      ],
      "execution_count": 44,
      "outputs": []
    },
    {
      "cell_type": "code",
      "metadata": {
        "colab": {
          "base_uri": "https://localhost:8080/"
        },
        "id": "qxGNwjdq9Hdr",
        "outputId": "5ee7c9a2-d2ae-4c64-d45b-e8eb9a967626"
      },
      "source": [
        "G + H"
      ],
      "execution_count": 45,
      "outputs": [
        {
          "output_type": "execute_result",
          "data": {
            "text/plain": [
              "array([[ 4086880,  9399824, 14712768],\n",
              "       [ 8495200, 19538960, 30582720],\n",
              "       [11801440, 27143312, 42485184]])"
            ]
          },
          "metadata": {},
          "execution_count": 45
        }
      ]
    },
    {
      "cell_type": "markdown",
      "metadata": {
        "id": "ZlVgYRZp9Knj"
      },
      "source": [
        "5. $A\\cdot I = A$"
      ]
    },
    {
      "cell_type": "code",
      "metadata": {
        "colab": {
          "base_uri": "https://localhost:8080/"
        },
        "id": "g5lXZKnH9LQk",
        "outputId": "a4783d30-5a5e-4e5e-bdff-ff2f8072491a"
      },
      "source": [
        "I=np.eye(3)\n",
        "print(I)"
      ],
      "execution_count": 46,
      "outputs": [
        {
          "output_type": "stream",
          "name": "stdout",
          "text": [
            "[[1. 0. 0.]\n",
            " [0. 1. 0.]\n",
            " [0. 0. 1.]]\n"
          ]
        }
      ]
    },
    {
      "cell_type": "code",
      "metadata": {
        "colab": {
          "base_uri": "https://localhost:8080/"
        },
        "id": "j1c8gVpH9dJ6",
        "outputId": "b969a30d-6439-4b01-bb9f-9f935e720e8b"
      },
      "source": [
        "print(F)"
      ],
      "execution_count": 47,
      "outputs": [
        {
          "output_type": "stream",
          "name": "stdout",
          "text": [
            "[[ 22960  52808  82656]\n",
            " [ 45920 105616 165312]\n",
            " [ 68880 158424 247968]]\n"
          ]
        }
      ]
    },
    {
      "cell_type": "code",
      "metadata": {
        "colab": {
          "base_uri": "https://localhost:8080/"
        },
        "id": "pGdEUWtX9ltG",
        "outputId": "b18cb5ce-058f-4c98-e18a-47dc51fcd5f6"
      },
      "source": [
        "np.dot(F,I)"
      ],
      "execution_count": 48,
      "outputs": [
        {
          "output_type": "execute_result",
          "data": {
            "text/plain": [
              "array([[ 22960.,  52808.,  82656.],\n",
              "       [ 45920., 105616., 165312.],\n",
              "       [ 68880., 158424., 247968.]])"
            ]
          },
          "metadata": {},
          "execution_count": 48
        }
      ]
    },
    {
      "cell_type": "markdown",
      "metadata": {
        "id": "czvDIBHf9pMC"
      },
      "source": [
        "6. $A\\cdot \\emptyset = \\emptyset$"
      ]
    },
    {
      "cell_type": "code",
      "metadata": {
        "colab": {
          "base_uri": "https://localhost:8080/"
        },
        "id": "7MR6ILYx9qyt",
        "outputId": "db7eb3a8-9532-412c-9ecb-a547a781d6b6"
      },
      "source": [
        "z_mat=np.zeros(F.shape)\n",
        "z_mat"
      ],
      "execution_count": 49,
      "outputs": [
        {
          "output_type": "execute_result",
          "data": {
            "text/plain": [
              "array([[0., 0., 0.],\n",
              "       [0., 0., 0.],\n",
              "       [0., 0., 0.]])"
            ]
          },
          "metadata": {},
          "execution_count": 49
        }
      ]
    },
    {
      "cell_type": "code",
      "metadata": {
        "colab": {
          "base_uri": "https://localhost:8080/"
        },
        "id": "yPShTHD09yPX",
        "outputId": "948de815-9f74-4154-f120-730641310140"
      },
      "source": [
        "F_dot_z=F.dot(np.zeros(F.shape))\n",
        "F_dot_z"
      ],
      "execution_count": 51,
      "outputs": [
        {
          "output_type": "execute_result",
          "data": {
            "text/plain": [
              "array([[0., 0., 0.],\n",
              "       [0., 0., 0.],\n",
              "       [0., 0., 0.]])"
            ]
          },
          "metadata": {},
          "execution_count": 51
        }
      ]
    },
    {
      "cell_type": "code",
      "metadata": {
        "colab": {
          "base_uri": "https://localhost:8080/"
        },
        "id": "B_Q5dxBN-An1",
        "outputId": "f3cfe698-b2bb-4fbe-e09c-64674dc63e77"
      },
      "source": [
        "np.array_equal(F_dot_z,z_mat)"
      ],
      "execution_count": 52,
      "outputs": [
        {
          "output_type": "execute_result",
          "data": {
            "text/plain": [
              "True"
            ]
          },
          "metadata": {},
          "execution_count": 52
        }
      ]
    },
    {
      "cell_type": "code",
      "metadata": {
        "colab": {
          "base_uri": "https://localhost:8080/"
        },
        "id": "YhPiWykr-HZh",
        "outputId": "88be0f66-4a5a-499a-b695-0702b2e7f048"
      },
      "source": [
        "null_mat=np.empty(F.shape,dtype=float)\n",
        "null=np.array(null_mat,dtype=float)\n",
        "print(null)\n",
        "np.allclose(F_dot_z,null)"
      ],
      "execution_count": 54,
      "outputs": [
        {
          "output_type": "stream",
          "name": "stdout",
          "text": [
            "[[ 22960.  52808.  82656.]\n",
            " [ 45920. 105616. 165312.]\n",
            " [ 68880. 158424. 247968.]]\n"
          ]
        },
        {
          "output_type": "execute_result",
          "data": {
            "text/plain": [
              "False"
            ]
          },
          "metadata": {},
          "execution_count": 54
        }
      ]
    }
  ]
}