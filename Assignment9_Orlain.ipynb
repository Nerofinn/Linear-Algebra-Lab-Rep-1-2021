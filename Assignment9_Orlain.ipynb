{
  "nbformat": 4,
  "nbformat_minor": 0,
  "metadata": {
    "colab": {
      "name": "Assignment 9.ipynb",
      "provenance": [],
      "collapsed_sections": [
        "qRwIFnTyXmLI"
      ],
      "authorship_tag": "ABX9TyMDw2v7SJPIwrkgqaX0eLT1",
      "include_colab_link": true
    },
    "kernelspec": {
      "name": "python3",
      "display_name": "Python 3"
    },
    "language_info": {
      "name": "python"
    }
  },
  "cells": [
    {
      "cell_type": "markdown",
      "metadata": {
        "id": "view-in-github",
        "colab_type": "text"
      },
      "source": [
        "<a href=\"https://colab.research.google.com/github/Nerofinn/Linear-Algebra-Lab-Rep-1-2021/blob/main/Assignment9_Orlain.ipynb\" target=\"_parent\"><img src=\"https://colab.research.google.com/assets/colab-badge.svg\" alt=\"Open In Colab\"/></a>"
      ]
    },
    {
      "cell_type": "markdown",
      "metadata": {
        "id": "DjFOHqWMOssk"
      },
      "source": [
        "# Lab 2 - Plotting Vector using NumPy and MatPlotLib"
      ]
    },
    {
      "cell_type": "markdown",
      "metadata": {
        "id": "6UfGB8RsbjbN"
      },
      "source": [
        "In this laboratory we will be discussing the basics of numerical and scientific programming by working with Vectors using NumPy and MatPlotLib."
      ]
    },
    {
      "cell_type": "markdown",
      "metadata": {
        "id": "YzW6OUOpO2dP"
      },
      "source": [
        "### Objectives\n",
        "At the end of this activity you will be able to:\n",
        "1. Be familiar with the libraries in Python for numerical and scientific programming.\n",
        "2. Visualize vectors through Python programming.\n",
        "3. Perform simple vector operations through code."
      ]
    },
    {
      "cell_type": "markdown",
      "metadata": {
        "id": "kp7X8io_O667"
      },
      "source": [
        "## Discussion"
      ]
    },
    {
      "cell_type": "markdown",
      "metadata": {
        "id": "clSLK-pKO80m"
      },
      "source": [
        "### NumPy"
      ]
    },
    {
      "cell_type": "markdown",
      "metadata": {
        "id": "9PHZ24OxPB0V"
      },
      "source": [
        "NumPy or Numerical Python, is mainly used for matrix and vector operations. It is capable of declaring computing and representing matrices. Most Python scientific programming libraries uses NumPy as the basic code."
      ]
    },
    {
      "cell_type": "markdown",
      "metadata": {
        "id": "5-v5V1p9PHmo"
      },
      "source": [
        "Scalars \\\\\n",
        "Represent magnitude or a single value\n",
        "\n",
        "Vectors \\\\\n",
        "Represent magnitude with directors"
      ]
    },
    {
      "cell_type": "markdown",
      "metadata": {
        "id": "sF7GQ80sPSTd"
      },
      "source": [
        "## Representing Vectors\n",
        "\n",
        "Now that you you know how to represent vectors using their components and matrix form we can now hard-code them in Python. Let's say that you have the vectors:"
      ]
    },
    {
      "cell_type": "markdown",
      "metadata": {
        "id": "UB7bT3bkPq22"
      },
      "source": [
        "$$ A = 4\\hat{x} + 3\\hat{y} \\\\\n",
        "B = 2\\hat{x} - 5\\hat{y}\\\\\n",
        "C = 4ax + 3ay - 2az \\\\\n",
        "D = 2\\hat{i} - 2\\hat{j} +3\\hat{k}$$"
      ]
    },
    {
      "cell_type": "markdown",
      "metadata": {
        "id": "uhiMFAgoPsrR"
      },
      "source": [
        "In which it's matrix equivalent is: "
      ]
    },
    {
      "cell_type": "markdown",
      "metadata": {
        "id": "ga_mnEgUQUO0"
      },
      "source": [
        "$$ A = \\begin{bmatrix} 4 \\\\ 3\\end{bmatrix} , B = \\begin{bmatrix} 2 \\\\ -5\\end{bmatrix} , C = \\begin{bmatrix} 4 \\\\ 3\\\\ -2\\end{bmatrix}, D = \\begin{bmatrix} 2 \\\\ -2 \\\\3\\end{bmatrix}\n",
        "$$\n",
        "\n",
        "$$ A = \\begin{bmatrix} 4 & 3\\end{bmatrix} , B = \\begin{bmatrix} 2 & -5\\end{bmatrix} , C= \\begin{bmatrix} 4 & 3 & -2\\end{bmatrix} , D=\\begin{bmatrix} 2 & -2 & 3\\end{bmatrix}\n",
        "$$"
      ]
    },
    {
      "cell_type": "markdown",
      "metadata": {
        "id": "oBolR4BgQVUk"
      },
      "source": [
        "We can then start doing numpy code with this by:"
      ]
    },
    {
      "cell_type": "code",
      "metadata": {
        "id": "OEllKLnpQYhI"
      },
      "source": [
        "## Importing necessary libraries\n",
        "import numpy as np ## 'np' here is short-hand name of the library (numpy) or a nickname."
      ],
      "execution_count": null,
      "outputs": []
    },
    {
      "cell_type": "code",
      "metadata": {
        "colab": {
          "base_uri": "https://localhost:8080/"
        },
        "id": "Fte1YCYsSCkW",
        "outputId": "d1b2ecf3-b26b-4af0-d6f6-3ae06b2e703d"
      },
      "source": [
        "A = np.array([4, 3]) \n",
        "B = np.array([2, -5])\n",
        "C = np.array([\n",
        "              [4],\n",
        "              [3],\n",
        "              [-2]\n",
        "])\n",
        "D = np.array([\n",
        "              [2],\n",
        "              [-2],\n",
        "              [3]\n",
        "])\n",
        "print('Vector A is ', A)\n",
        "print('Vector B is ', B)\n",
        "print('Vector C is ', C)\n",
        "print('Vector D is ', D)"
      ],
      "execution_count": null,
      "outputs": [
        {
          "output_type": "stream",
          "name": "stdout",
          "text": [
            "Vector A is  [4 3]\n",
            "Vector B is  [ 2 -5]\n",
            "Vector C is  [[ 4]\n",
            " [ 3]\n",
            " [-2]]\n",
            "Vector D is  [[ 2]\n",
            " [-2]\n",
            " [ 3]]\n"
          ]
        }
      ]
    },
    {
      "cell_type": "markdown",
      "metadata": {
        "id": "uIEbqmghTVSZ"
      },
      "source": [
        "#### Describing vectors in NumPy\n",
        "\n",
        "Describing vectors is very important if we want to perform basic to advanced operations with them. The fundamental ways in describing vectors are knowing their shape, size and dimensions."
      ]
    },
    {
      "cell_type": "code",
      "metadata": {
        "colab": {
          "base_uri": "https://localhost:8080/"
        },
        "id": "ask4VKnXTgNR",
        "outputId": "0769efbe-0079-45a8-c99a-add2056480ae"
      },
      "source": [
        "### Checking shapes\n",
        "### Shapes tells us how many elements are there on each row and column\n",
        "\n",
        "A.shape\n",
        "H = np.array([1, 0, 2, 5, -0.2, 0])\n",
        "H.shape\n",
        "C.shape"
      ],
      "execution_count": null,
      "outputs": [
        {
          "output_type": "execute_result",
          "data": {
            "text/plain": [
              "(3, 1)"
            ]
          },
          "metadata": {},
          "execution_count": 3
        }
      ]
    },
    {
      "cell_type": "code",
      "metadata": {
        "colab": {
          "base_uri": "https://localhost:8080/"
        },
        "id": "rvAS6gz8T0MZ",
        "outputId": "518a9733-68d7-43b7-8dad-91ff3ff6e11e"
      },
      "source": [
        "### Checking size\n",
        "### Array/Vector sizes tells us many total number of elements are there in the vector\n",
        "\n",
        "D.size"
      ],
      "execution_count": null,
      "outputs": [
        {
          "output_type": "execute_result",
          "data": {
            "text/plain": [
              "3"
            ]
          },
          "metadata": {},
          "execution_count": 4
        }
      ]
    },
    {
      "cell_type": "code",
      "metadata": {
        "colab": {
          "base_uri": "https://localhost:8080/"
        },
        "id": "Mv3gI7YBT-Lq",
        "outputId": "d817625f-724e-4fb9-a6c1-a80ce0bbad96"
      },
      "source": [
        "### Checking dimensions\n",
        "### The dimensions or rank of a vector tells us how many dimensions are there for the vector.\n",
        "\n",
        "D.ndim"
      ],
      "execution_count": null,
      "outputs": [
        {
          "output_type": "execute_result",
          "data": {
            "text/plain": [
              "2"
            ]
          },
          "metadata": {},
          "execution_count": 5
        }
      ]
    },
    {
      "cell_type": "markdown",
      "metadata": {
        "id": "wlxctDk9UZi2"
      },
      "source": [
        "Great! Now let's try to explore in performing operations with these vectors. "
      ]
    },
    {
      "cell_type": "markdown",
      "metadata": {
        "id": "7qKyBtgYUkJd"
      },
      "source": [
        "## Addition\n",
        "\n",
        "The addition rule is simple,  the we just need to add the elements of the matrices according to their index. So in this case if we add vector $A$ and vector $B$ we will have a resulting vector:"
      ]
    },
    {
      "cell_type": "markdown",
      "metadata": {
        "id": "lbYa44eYcg5i"
      },
      "source": [
        "$$R = 6\\hat{x}-2\\hat{y} \\\\ \\\\or \\\\ \\\\ R = \\begin{bmatrix} 6 \\\\ -2\\end{bmatrix} $$"
      ]
    },
    {
      "cell_type": "markdown",
      "metadata": {
        "id": "wCGsAq5VcjJN"
      },
      "source": [
        "So let's try to do that in NumPy in several number of ways:"
      ]
    },
    {
      "cell_type": "code",
      "metadata": {
        "id": "Po_gb6i8U3HD"
      },
      "source": [
        "R = np.add(A, B) ## this is the functional method using the numpy library\n",
        "P = np.add(C, D)\n"
      ],
      "execution_count": null,
      "outputs": []
    },
    {
      "cell_type": "code",
      "metadata": {
        "colab": {
          "base_uri": "https://localhost:8080/"
        },
        "id": "TNip1V4qVsrT",
        "outputId": "246cb899-d97a-4508-d6d0-e98b1f3139b5"
      },
      "source": [
        "R = A + B  ## this is the explicit method, since Python does a value-reference so it can\n",
        "           ## know that these variables would need to \n",
        "\n",
        "R"
      ],
      "execution_count": null,
      "outputs": [
        {
          "output_type": "execute_result",
          "data": {
            "text/plain": [
              "array([ 6, -2])"
            ]
          },
          "metadata": {},
          "execution_count": 7
        }
      ]
    },
    {
      "cell_type": "code",
      "metadata": {
        "colab": {
          "base_uri": "https://localhost:8080/"
        },
        "id": "-o9_SBSpV8hU",
        "outputId": "8a67c697-c636-43a6-ac2a-8336c3f5cdf1"
      },
      "source": [
        "pos1 = np.array([0, 0, 0,]),\n",
        "pos2 = np.array([0, 1, 3]),\n",
        "pos3 = np.array([1, 5, -2]),\n",
        "pos4 = np.array([5, -3, 3])\n",
        "#R = pos1 + pos2 + pos3 + pos 4\n",
        "#R = np.multiply(pos3,pos4)\n",
        "R = pos3 / pos4\n",
        "R"
      ],
      "execution_count": null,
      "outputs": [
        {
          "output_type": "execute_result",
          "data": {
            "text/plain": [
              "array([[ 0.2       , -1.66666667, -0.66666667]])"
            ]
          },
          "metadata": {},
          "execution_count": 9
        }
      ]
    },
    {
      "cell_type": "markdown",
      "metadata": {
        "id": "22dmlwO6W38_"
      },
      "source": [
        "##### Try for yourself!\n",
        "\n",
        "Try to implement subtraction, multiplication, and division with vectors ***A*** and ***B***"
      ]
    },
    {
      "cell_type": "code",
      "metadata": {
        "id": "o9lxjAzgXGlW",
        "colab": {
          "base_uri": "https://localhost:8080/"
        },
        "outputId": "cc56d7a1-6d0c-435a-daef-78863d953282"
      },
      "source": [
        "A = np.array([1, 2, 3])\n",
        "B = np.array([4, 5, 6])\n",
        "\n",
        "SubtractVectors = np.subtract(A, B)\n",
        "print(SubtractVectors)\n",
        "MultiplyVectors = np.multiply(A, B)\n",
        "print(MultiplyVectors)\n",
        "DivisionVectors = np.divide(A, B)\n",
        "print(DivisionVectors)"
      ],
      "execution_count": null,
      "outputs": [
        {
          "output_type": "stream",
          "name": "stdout",
          "text": [
            "[-3 -3 -3]\n",
            "[ 4 10 18]\n",
            "[0.25 0.4  0.5 ]\n"
          ]
        }
      ]
    },
    {
      "cell_type": "markdown",
      "metadata": {
        "id": "R8jvY9FtXCsA"
      },
      "source": [
        "## Scaling\n",
        "\n",
        "Scaling or scalar multiplication takes a scalar value and performs multiplication with a vector. Let's take the example below:\n",
        "\n",
        "$$S = 5 \\cdot A$$"
      ]
    },
    {
      "cell_type": "markdown",
      "metadata": {
        "id": "1i7Skg5uXZSc"
      },
      "source": [
        "We can do this in numpy through:"
      ]
    },
    {
      "cell_type": "code",
      "metadata": {
        "colab": {
          "base_uri": "https://localhost:8080/"
        },
        "id": "uOZVNedsXbeK",
        "outputId": "35e3f128-6e6d-4b41-8c85-309d0a369e04"
      },
      "source": [
        "#S = 5 * A\n",
        "S = np.multiply(5,A)\n",
        "S"
      ],
      "execution_count": null,
      "outputs": [
        {
          "output_type": "execute_result",
          "data": {
            "text/plain": [
              "array([ 5, 10, 15])"
            ]
          },
          "metadata": {},
          "execution_count": 13
        }
      ]
    },
    {
      "cell_type": "markdown",
      "metadata": {
        "id": "mHUawXN1XjX7"
      },
      "source": [
        "Try to implement scaling with two vectors."
      ]
    },
    {
      "cell_type": "code",
      "metadata": {
        "colab": {
          "base_uri": "https://localhost:8080/"
        },
        "id": "UQ0neCXNe84P",
        "outputId": "24f6de85-edd0-4239-80d3-9ed6423bf607"
      },
      "source": [
        "SN = 10 #ScalingNumber\n",
        "Vector1 = np.array([4,5,6])\n",
        "Vector2 = np.array([6,7,8])\n",
        "\n",
        "Scale =SN* Vector1, Vector2\n",
        "print(Scale)"
      ],
      "execution_count": null,
      "outputs": [
        {
          "output_type": "stream",
          "name": "stdout",
          "text": [
            "(array([40, 50, 60]), array([6, 7, 8]))\n"
          ]
        }
      ]
    },
    {
      "cell_type": "markdown",
      "metadata": {
        "id": "qRwIFnTyXmLI"
      },
      "source": [
        "## MatPlotLib\n",
        "\n",
        "MatPlotLib or MatLab Plotting library is Python's take on MATLabs plotting feature. MatPlotLib can be used vastly from graping values to visualizing several dimensions of data."
      ]
    },
    {
      "cell_type": "markdown",
      "metadata": {
        "id": "WqS9hnb1X3t2"
      },
      "source": [
        "## Visualizing Data\n",
        "\n",
        "It's not enough just solving these vectors so might need to visualize them. So we'll use MatPlotLib for that. We'll need to import it first."
      ]
    },
    {
      "cell_type": "code",
      "metadata": {
        "id": "kpdRGPziYKH0"
      },
      "source": [
        "import matplotlib.pyplot as plt\n",
        "import matplotlib\n",
        "%matplotlib inline"
      ],
      "execution_count": null,
      "outputs": []
    },
    {
      "cell_type": "code",
      "metadata": {
        "colab": {
          "base_uri": "https://localhost:8080/",
          "height": 265
        },
        "id": "TpD9lquGYVK8",
        "outputId": "238d1fe6-6e35-48c9-ccc8-6a51c258d79f"
      },
      "source": [
        "A = [1, -1]\n",
        "B = [5, -1]\n",
        "plt.scatter(A[0], A[1], label='A', c='green')\n",
        "plt.scatter(B[0], B[1], label='B', c='magenta')\n",
        "plt.grid()\n",
        "plt.legend()\n",
        "plt.show()"
      ],
      "execution_count": null,
      "outputs": [
        {
          "output_type": "display_data",
          "data": {
            "image/png": "[encoded data removed]",
            "text/plain": [
              "<Figure size 432x288 with 1 Axes>"
            ]
          },
          "metadata": {
            "needs_background": "light"
          }
        }
      ]
    },
    {
      "cell_type": "code",
      "metadata": {
        "colab": {
          "base_uri": "https://localhost:8080/",
          "height": 364
        },
        "id": "gmT5lRYkadW8",
        "outputId": "0e28d6b8-73a3-4759-882e-ba83d8a52a14"
      },
      "source": [
        "A = np.array([1, -1])\n",
        "B = np.array([1, 5])\n",
        "plt.title(\"Resultant Vector\\nMagnitude:{}\" .format(Magnitude))\n",
        "plt.xlim(-5, 5)\n",
        "plt.ylim(-5, 5)\n",
        "plt.quiver(0, 0, A[0], A[1], angles='xy', scale_units='xy', scale=1, color='red')\n",
        "plt.quiver(A[0], A[1], B[0], B[1], angles='xy', scale_units='xy', scale=1, color='green')\n",
        "R = A + B\n",
        "plt.quiver(0, 0, R[0], R[1], angles='xy', scale_units='xy', scale=1, color='black')\n",
        "plt.grid()\n",
        "plt.show()\n",
        "print(R)\n",
        "Magnitude = np.sqrt(np.sum(R**2))\n",
        "print(Magnitude)\n",
        "Slope = R[1]/R[0]\n",
        "print(Slope)\n",
        "Angle = (np.arctan(Slope))*(180/np.pi)\n",
        "print(Angle)"
      ],
      "execution_count": 25,
      "outputs": [
        {
          "output_type": "display_data",
          "data": {
            "image/png": "[encoded data removed]",
            "text/plain": [
              "<Figure size 432x288 with 1 Axes>"
            ]
          },
          "metadata": {
            "needs_background": "light"
          }
        },
        {
          "output_type": "stream",
          "name": "stdout",
          "text": [
            "[2 4]\n",
            "4.47213595499958\n",
            "2.0\n",
            "63.43494882292201\n"
          ]
        }
      ]
    },
    {
      "cell_type": "code",
      "metadata": {
        "colab": {
          "base_uri": "https://localhost:8080/",
          "height": 269
        },
        "id": "KBnOc7FgfeY7",
        "outputId": "8024c69e-843f-4a10-c869-288b5a944dc9"
      },
      "source": [
        "n = A.shape[0]\n",
        "plt.xlim(-10, 10)\n",
        "plt.ylim(-10, 10)\n",
        "plt.quiver(0,0, A[0], A[1], angles='xy', scale_units='xy',scale=1)\n",
        "plt.quiver(A[0],A[1], B[0], B[1], angles='xy', scale_units='xy',scale=1)\n",
        "plt.quiver(0,0, R[0], R[1], angles='xy', scale_units='xy',scale=1)\n",
        "plt.show()"
      ],
      "execution_count": 26,
      "outputs": [
        {
          "output_type": "display_data",
          "data": {
            "image/png": "[encoded data removed]",
            "text/plain": [
              "<Figure size 432x288 with 1 Axes>"
            ]
          },
          "metadata": {
            "needs_background": "light"
          }
        }
      ]
    },
    {
      "cell_type": "markdown",
      "metadata": {
        "id": "l8znGFwJhPdB"
      },
      "source": [
        "Try plotting Three vectors and show the Resultant Vector as  a result. \n",
        "Use Head to Tail Method. "
      ]
    },
    {
      "cell_type": "code",
      "metadata": {
        "colab": {
          "base_uri": "https://localhost:8080/",
          "height": 282
        },
        "id": "uR9KwLavdBm2",
        "outputId": "fa1cd4d7-de7d-4a53-e76d-135f5d153c4a"
      },
      "source": [
        "A = np.array([1, -5])\n",
        "B = np.array([1, 5])\n",
        "C = np.array([1, 7])\n",
        "plt.xlim(-9, 9)\n",
        "plt.ylim(-9, 9)\n",
        "Q1 = plt.quiver(0,0, A[0], A[1], angles='xy', scale_units='xy',scale=1, color=\"cyan\")\n",
        "Q2 = plt.quiver(A[0],A[1], B[0], B[1], angles='xy', scale_units='xy',scale=1, color=\"blue\")\n",
        "Q3 = plt.quiver(2,0, C[0], C[1], angles='xy', scale_units='xy',scale=1, color=\"black\")\n",
        "R = A + B + C\n",
        "plt.quiver(0,0, R[0], R[1], angles='xy', scale_units='xy',scale=1, color=\"yellow\")\n",
        "plt.grid()\n",
        "plt.show()\n",
        "print(\"The Resultant of the three Vectors is\", R)"
      ],
      "execution_count": null,
      "outputs": [
        {
          "output_type": "display_data",
          "data": {
            "image/png": "[encoded data removed]",
            "text/plain": [
              "<Figure size 432x288 with 1 Axes>"
            ]
          },
          "metadata": {
            "needs_background": "light"
          }
        },
        {
          "output_type": "stream",
          "name": "stdout",
          "text": [
            "The Resultant of the three Vectors is [3 7]\n"
          ]
        }
      ]
    },
    {
      "cell_type": "code",
      "metadata": {
        "colab": {
          "base_uri": "https://localhost:8080/"
        },
        "id": "G-jIliDnCO9K",
        "outputId": "f77d08e9-a60a-41ab-bc76-0a1269614835"
      },
      "source": [
        "### Try out code here!\n",
        "A = np.array([2, 3, 4])\n",
        "B = np.array([5, 6, 7])\n",
        "\n",
        "SubtractVectors = np.subtract(A, B)\n",
        "print(SubtractVectors)\n",
        "MultiplyVectors = np.multiply(A, B)\n",
        "print(MultiplyVectors)\n",
        "DivisionVectors = np.divide(A, B)\n",
        "print(DivisionVectors)"
      ],
      "execution_count": 20,
      "outputs": [
        {
          "output_type": "stream",
          "name": "stdout",
          "text": [
            "[-3 -3 -3]\n",
            "[10 18 28]\n",
            "[0.4        0.5        0.57142857]\n"
          ]
        }
      ]
    },
    {
      "cell_type": "code",
      "metadata": {
        "colab": {
          "base_uri": "https://localhost:8080/"
        },
        "id": "TSoMRbiBC33g",
        "outputId": "9d8f7f6b-30fe-46a1-ad36-e37137a0b18e"
      },
      "source": [
        "SN = 10 #ScalingNumber\n",
        "Vector1 = np.array([2,3,4])\n",
        "Vector2 = np.array([5,6,7])\n",
        "\n",
        "Scale =SN* Vector1, Vector2\n",
        "print(Scale)"
      ],
      "execution_count": 22,
      "outputs": [
        {
          "output_type": "stream",
          "name": "stdout",
          "text": [
            "(array([20, 30, 40]), array([5, 6, 7]))\n"
          ]
        }
      ]
    }
  ]
}