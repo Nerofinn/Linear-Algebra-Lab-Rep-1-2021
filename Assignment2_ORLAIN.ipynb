{
  "nbformat": 4,
  "nbformat_minor": 0,
  "metadata": {
    "colab": {
      "name": "Assignment2_ORLAIN",
      "provenance": [],
      "collapsed_sections": [],
      "authorship_tag": "ABX9TyOp1Xi4YJF08L9TtEDsrNM+",
      "include_colab_link": true
    },
    "kernelspec": {
      "name": "python3",
      "display_name": "Python 3"
    },
    "language_info": {
      "name": "python"
    }
  },
  "cells": [
    {
      "cell_type": "markdown",
      "metadata": {
        "id": "view-in-github",
        "colab_type": "text"
      },
      "source": [
        "<a href=\"https://colab.research.google.com/github/Nerofinn/Linear-Algebra-Lab-Rep-1-2021/blob/main/Assignment2_ORLAIN.ipynb\" target=\"_parent\"><img src=\"https://colab.research.google.com/assets/colab-badge.svg\" alt=\"Open In Colab\"/></a>"
      ]
    },
    {
      "cell_type": "code",
      "metadata": {
        "id": "j6nPCNgw4aCX"
      },
      "source": [
        ""
      ],
      "execution_count": null,
      "outputs": []
    },
    {
      "cell_type": "markdown",
      "metadata": {
        "id": "qkKf3zqd4g_e"
      },
      "source": [
        ""
      ]
    },
    {
      "cell_type": "markdown",
      "metadata": {
        "id": "prGR9eaE8LY7"
      },
      "source": [
        "## Variables and Data Types\n",
        "\n",
        "A variable is memory location where you store a value. Data types are the classification or categorization of data items. It represents the kind of value that tells what operations can be performed on a particular data. \n"
      ]
    },
    {
      "cell_type": "markdown",
      "metadata": {
        "id": "x9XEIvY54wEf"
      },
      "source": [
        "## Welcome to Python Fundamentals\n",
        "In this module, we are going to establish our skills in Python programming. In this notebook we are going to cover:\n",
        "\n",
        "\n",
        "\n",
        "*   Variables and Data Types\n",
        "*   Operations\n",
        "*   Input and Output Operations\n",
        "*   Logic Control\n",
        "*   Iterables\n",
        "*   Functions\n",
        "\n",
        "![image](https://upload.wikimedia.org/wikipedia/commons/thumb/c/c3/Python-logo-notext.svg/1200px-Python-logo-notext.svg.png)\n",
        "\n"
      ]
    },
    {
      "cell_type": "code",
      "metadata": {
        "id": "-PvpJa-S8R_a"
      },
      "source": [
        "x=1\n",
        "a , b= 3, -2"
      ],
      "execution_count": null,
      "outputs": []
    },
    {
      "cell_type": "code",
      "metadata": {
        "colab": {
          "base_uri": "https://localhost:8080/"
        },
        "id": "6hfI0QIC8dEC",
        "outputId": "9c5a85e6-7726-4a3b-ca40-d27c7dacd9be"
      },
      "source": [
        "type (x)\n"
      ],
      "execution_count": null,
      "outputs": [
        {
          "output_type": "execute_result",
          "data": {
            "text/plain": [
              "int"
            ]
          },
          "metadata": {},
          "execution_count": 2
        }
      ]
    },
    {
      "cell_type": "code",
      "metadata": {
        "colab": {
          "base_uri": "https://localhost:8080/"
        },
        "id": "uR3-SOpK9tJd",
        "outputId": "56e478cc-1556-4ce9-beab-b6a603d46865"
      },
      "source": [
        "y = 3.0\n",
        "type (y)"
      ],
      "execution_count": null,
      "outputs": [
        {
          "output_type": "execute_result",
          "data": {
            "text/plain": [
              "float"
            ]
          },
          "metadata": {},
          "execution_count": 3
        }
      ]
    },
    {
      "cell_type": "code",
      "metadata": {
        "colab": {
          "base_uri": "https://localhost:8080/"
        },
        "id": "vdDa_E8_JNto",
        "outputId": "e11bca92-7335-4ea9-8463-08cc2ee78cba"
      },
      "source": [
        "x = float(x)\n",
        "type (x)\n",
        "x"
      ],
      "execution_count": null,
      "outputs": [
        {
          "output_type": "execute_result",
          "data": {
            "text/plain": [
              "1.0"
            ]
          },
          "metadata": {},
          "execution_count": 4
        }
      ]
    },
    {
      "cell_type": "code",
      "metadata": {
        "colab": {
          "base_uri": "https://localhost:8080/"
        },
        "id": "Ag7TbjvEJScq",
        "outputId": "d2f0ec01-e8d2-410d-b570-ccef0d22fff9"
      },
      "source": [
        "s, t, u= \"1\" , '3', 'three'\n",
        "type (u)"
      ],
      "execution_count": null,
      "outputs": [
        {
          "output_type": "execute_result",
          "data": {
            "text/plain": [
              "str"
            ]
          },
          "metadata": {},
          "execution_count": 5
        }
      ]
    },
    {
      "cell_type": "markdown",
      "metadata": {
        "id": "r0xfGdJ3KBet"
      },
      "source": [
        "## Operations\n",
        "They are symbols that carry out arithmetic or logical computation."
      ]
    },
    {
      "cell_type": "markdown",
      "metadata": {
        "id": "_7QoTmb8KSts"
      },
      "source": [
        "## Arithmetic\n",
        "They are used to mathematical operations like addition, subtraction, multiplication, etc.\n"
      ]
    },
    {
      "cell_type": "code",
      "metadata": {
        "id": "uHt6c4aBKVhv"
      },
      "source": [
        "w, x, y, z, = 4.0, -3.0, 1, -32"
      ],
      "execution_count": null,
      "outputs": []
    },
    {
      "cell_type": "code",
      "metadata": {
        "id": "JmfXvbtYKkjn"
      },
      "source": [
        "### Addition\n",
        "S = w + x"
      ],
      "execution_count": null,
      "outputs": []
    },
    {
      "cell_type": "code",
      "metadata": {
        "id": "ijzYsUJYKyUQ"
      },
      "source": [
        "### Subtraction \n",
        "D = y - z"
      ],
      "execution_count": null,
      "outputs": []
    },
    {
      "cell_type": "code",
      "metadata": {
        "id": "TpnMfVx0K3G2"
      },
      "source": [
        "### Multiplication \n",
        "P = w*z"
      ],
      "execution_count": null,
      "outputs": []
    },
    {
      "cell_type": "code",
      "metadata": {
        "colab": {
          "base_uri": "https://localhost:8080/"
        },
        "id": "APti_-04LGWO",
        "outputId": "9bd2c852-d48d-43dd-e9cb-85ee34a587fe"
      },
      "source": [
        "### Division\n",
        "Q = y/x\n",
        "Q"
      ],
      "execution_count": null,
      "outputs": [
        {
          "output_type": "execute_result",
          "data": {
            "text/plain": [
              "-0.3333333333333333"
            ]
          },
          "metadata": {},
          "execution_count": 10
        }
      ]
    },
    {
      "cell_type": "code",
      "metadata": {
        "colab": {
          "base_uri": "https://localhost:8080/"
        },
        "id": "pfK_LYpXP9QT",
        "outputId": "c0a6d129-8996-45c0-e2dc-5a47fbea2419"
      },
      "source": [
        "### Floor Division\n",
        "Qf =w//z\n",
        "Qf"
      ],
      "execution_count": null,
      "outputs": [
        {
          "output_type": "execute_result",
          "data": {
            "text/plain": [
              "-1.0"
            ]
          },
          "metadata": {},
          "execution_count": 11
        }
      ]
    },
    {
      "cell_type": "code",
      "metadata": {
        "colab": {
          "base_uri": "https://localhost:8080/"
        },
        "id": "jl9KeN3EQKp3",
        "outputId": "e28de66d-fb5a-4bde-b71a-28e26fcf7aa8"
      },
      "source": [
        "### Exponentiation\n",
        "E = w**w\n",
        "E"
      ],
      "execution_count": null,
      "outputs": [
        {
          "output_type": "execute_result",
          "data": {
            "text/plain": [
              "256.0"
            ]
          },
          "metadata": {},
          "execution_count": 12
        }
      ]
    },
    {
      "cell_type": "code",
      "metadata": {
        "colab": {
          "base_uri": "https://localhost:8080/"
        },
        "id": "6T3XMDvjQa9r",
        "outputId": "219909eb-c303-4d36-e6c2-0073a64cf260"
      },
      "source": [
        "### Modulo \n",
        "mod = z%x\n",
        "mod"
      ],
      "execution_count": null,
      "outputs": [
        {
          "output_type": "execute_result",
          "data": {
            "text/plain": [
              "-2.0"
            ]
          },
          "metadata": {},
          "execution_count": 13
        }
      ]
    },
    {
      "cell_type": "markdown",
      "metadata": {
        "id": "0Bm8gYTcQkSf"
      },
      "source": [
        "## Assignment\n",
        "It is the variable named on the left should now referto the value on right. "
      ]
    },
    {
      "cell_type": "code",
      "metadata": {
        "id": "cqtQdjk_Qmur"
      },
      "source": [
        "A, B, C, D, E = 0, 100, 2, 1, 2"
      ],
      "execution_count": null,
      "outputs": []
    },
    {
      "cell_type": "code",
      "metadata": {
        "colab": {
          "base_uri": "https://localhost:8080/"
        },
        "id": "DZLODlCoRlf7",
        "outputId": "4bdaf415-59ea-4bbc-fa8e-6b17d1c3889c"
      },
      "source": [
        "A += w\n",
        "A"
      ],
      "execution_count": null,
      "outputs": [
        {
          "output_type": "execute_result",
          "data": {
            "text/plain": [
              "4.0"
            ]
          },
          "metadata": {},
          "execution_count": 15
        }
      ]
    },
    {
      "cell_type": "code",
      "metadata": {
        "id": "IpdFf_Ft6SiK",
        "colab": {
          "base_uri": "https://localhost:8080/"
        },
        "outputId": "e6036f13-bb79-4764-c143-bb7aea6f799d"
      },
      "source": [
        "B -= x\n",
        "B"
      ],
      "execution_count": null,
      "outputs": [
        {
          "output_type": "execute_result",
          "data": {
            "text/plain": [
              "103.0"
            ]
          },
          "metadata": {},
          "execution_count": 16
        }
      ]
    },
    {
      "cell_type": "code",
      "metadata": {
        "id": "WqDlt-466n_1",
        "colab": {
          "base_uri": "https://localhost:8080/"
        },
        "outputId": "4e182a66-3203-4fbf-d8b5-87f69e01ef03"
      },
      "source": [
        "C *= w\n",
        "C"
      ],
      "execution_count": null,
      "outputs": [
        {
          "output_type": "execute_result",
          "data": {
            "text/plain": [
              "8.0"
            ]
          },
          "metadata": {},
          "execution_count": 17
        }
      ]
    },
    {
      "cell_type": "code",
      "metadata": {
        "colab": {
          "base_uri": "https://localhost:8080/"
        },
        "id": "21G6x4Gi60OC",
        "outputId": "47cb0d30-96e6-4a12-83ee-1b85b116540e"
      },
      "source": [
        "D /= x\n",
        "D"
      ],
      "execution_count": null,
      "outputs": [
        {
          "output_type": "execute_result",
          "data": {
            "text/plain": [
              "-0.3333333333333333"
            ]
          },
          "metadata": {},
          "execution_count": 18
        }
      ]
    },
    {
      "cell_type": "code",
      "metadata": {
        "colab": {
          "base_uri": "https://localhost:8080/"
        },
        "id": "HMoE6BEL7do4",
        "outputId": "9e182a3a-d359-4c1b-e69c-94f00844f920"
      },
      "source": [
        "E **= y\n",
        "E"
      ],
      "execution_count": null,
      "outputs": [
        {
          "output_type": "execute_result",
          "data": {
            "text/plain": [
              "2"
            ]
          },
          "metadata": {},
          "execution_count": 19
        }
      ]
    },
    {
      "cell_type": "markdown",
      "metadata": {
        "id": "LWR5ae3zRoax"
      },
      "source": [
        "## Comparators\n",
        "They are used to compare two objects."
      ]
    },
    {
      "cell_type": "code",
      "metadata": {
        "id": "RQ6ih7dTRqx6"
      },
      "source": [
        "size_1, size_2, size_3 = 1, 2.0, \"1\"\n",
        "true_size = 1.0"
      ],
      "execution_count": null,
      "outputs": []
    },
    {
      "cell_type": "code",
      "metadata": {
        "colab": {
          "base_uri": "https://localhost:8080/"
        },
        "id": "HhzXslQE7uhk",
        "outputId": "1d2395f2-0e6f-4760-d440-298596f3a4fd"
      },
      "source": [
        "## Equality\n",
        "size_1 == true_size"
      ],
      "execution_count": null,
      "outputs": [
        {
          "output_type": "execute_result",
          "data": {
            "text/plain": [
              "True"
            ]
          },
          "metadata": {},
          "execution_count": 21
        }
      ]
    },
    {
      "cell_type": "code",
      "metadata": {
        "colab": {
          "base_uri": "https://localhost:8080/"
        },
        "id": "BOebtAN87398",
        "outputId": "9e7e9c56-7c51-413f-d204-9dc089ffea24"
      },
      "source": [
        "## Non - Equality\n",
        "size_2 == true_size"
      ],
      "execution_count": null,
      "outputs": [
        {
          "output_type": "execute_result",
          "data": {
            "text/plain": [
              "False"
            ]
          },
          "metadata": {},
          "execution_count": 22
        }
      ]
    },
    {
      "cell_type": "code",
      "metadata": {
        "id": "Q7Syzfre8LTT"
      },
      "source": [
        "## Inequality\n",
        "s1 = size_1 > size_2\n",
        "s2 = size_1 < size_2/2\n",
        "s3 = true_size >= size_1\n",
        "s4 = size_2 <= true_size"
      ],
      "execution_count": null,
      "outputs": []
    },
    {
      "cell_type": "markdown",
      "metadata": {
        "id": "DviVNti08yMX"
      },
      "source": [
        "## Logical\n",
        "They are used to combine true or false values of variables to figure out the resultant truth value."
      ]
    },
    {
      "cell_type": "code",
      "metadata": {
        "id": "lndZ1nO381FZ",
        "colab": {
          "base_uri": "https://localhost:8080/"
        },
        "outputId": "35a187e9-a5b9-4097-bdf4-9ffff597e892"
      },
      "source": [
        "size_1 == true_size"
      ],
      "execution_count": null,
      "outputs": [
        {
          "output_type": "execute_result",
          "data": {
            "text/plain": [
              "True"
            ]
          },
          "metadata": {},
          "execution_count": 24
        }
      ]
    },
    {
      "cell_type": "code",
      "metadata": {
        "id": "YvQ1_5Yn86xe",
        "colab": {
          "base_uri": "https://localhost:8080/"
        },
        "outputId": "b837af2a-fa08-4df1-a2f6-3d4cf6c2f7b0"
      },
      "source": [
        "size_1 is true_size"
      ],
      "execution_count": null,
      "outputs": [
        {
          "output_type": "execute_result",
          "data": {
            "text/plain": [
              "False"
            ]
          },
          "metadata": {},
          "execution_count": 25
        }
      ]
    },
    {
      "cell_type": "code",
      "metadata": {
        "id": "a1yOyBpo9AtY",
        "colab": {
          "base_uri": "https://localhost:8080/"
        },
        "outputId": "6b77cb4e-d00f-4917-9500-1663a6df6220"
      },
      "source": [
        "size_1 is not true_size"
      ],
      "execution_count": null,
      "outputs": [
        {
          "output_type": "execute_result",
          "data": {
            "text/plain": [
              "True"
            ]
          },
          "metadata": {},
          "execution_count": 26
        }
      ]
    },
    {
      "cell_type": "code",
      "metadata": {
        "id": "cuEFskzk9Ev_",
        "colab": {
          "base_uri": "https://localhost:8080/"
        },
        "outputId": "b7114d84-f92d-4949-e340-c742382ba695"
      },
      "source": [
        "P, Q = True, False\n",
        "conj = P and Q\n",
        "conj"
      ],
      "execution_count": null,
      "outputs": [
        {
          "output_type": "execute_result",
          "data": {
            "text/plain": [
              "False"
            ]
          },
          "metadata": {},
          "execution_count": 27
        }
      ]
    },
    {
      "cell_type": "code",
      "metadata": {
        "id": "oy9Z_4Go9Q_z",
        "colab": {
          "base_uri": "https://localhost:8080/"
        },
        "outputId": "b6147cf1-8ba7-402b-8a20-6c362539cfe6"
      },
      "source": [
        "disj = P or Q\n",
        "disj"
      ],
      "execution_count": null,
      "outputs": [
        {
          "output_type": "execute_result",
          "data": {
            "text/plain": [
              "True"
            ]
          },
          "metadata": {},
          "execution_count": 28
        }
      ]
    },
    {
      "cell_type": "code",
      "metadata": {
        "id": "cecQVOC_9V4z",
        "colab": {
          "base_uri": "https://localhost:8080/"
        },
        "outputId": "6c8b07c6-e592-40f1-cb52-2b6f96312cbe"
      },
      "source": [
        "nand = not(P and Q)\n",
        "nand\n"
      ],
      "execution_count": null,
      "outputs": [
        {
          "output_type": "execute_result",
          "data": {
            "text/plain": [
              "True"
            ]
          },
          "metadata": {},
          "execution_count": 29
        }
      ]
    },
    {
      "cell_type": "code",
      "metadata": {
        "id": "ZgL4IlV19a9q",
        "colab": {
          "base_uri": "https://localhost:8080/"
        },
        "outputId": "8f5fe513-8786-490b-aa68-eb1dce6b9408"
      },
      "source": [
        "xor = (not P and Q) or (P and not Q)\n",
        "xor"
      ],
      "execution_count": null,
      "outputs": [
        {
          "output_type": "execute_result",
          "data": {
            "text/plain": [
              "True"
            ]
          },
          "metadata": {},
          "execution_count": 30
        }
      ]
    },
    {
      "cell_type": "markdown",
      "metadata": {
        "id": "CqfENWFi9lvk"
      },
      "source": [
        "## Input and Output\n",
        "Input function is used to take an input from the user ar the console. Output function is to generate an output at the console.  "
      ]
    },
    {
      "cell_type": "code",
      "metadata": {
        "colab": {
          "base_uri": "https://localhost:8080/"
        },
        "id": "zeU_7oWV9oWn",
        "outputId": "0499f521-c644-42ba-b497-231df34abe82"
      },
      "source": [
        "print(\"Hello World!\")\n"
      ],
      "execution_count": null,
      "outputs": [
        {
          "output_type": "stream",
          "name": "stdout",
          "text": [
            "Hello World!\n"
          ]
        }
      ]
    },
    {
      "cell_type": "code",
      "metadata": {
        "id": "6AGxP4RB9ue8"
      },
      "source": [
        "cnt= 14000"
      ],
      "execution_count": null,
      "outputs": []
    },
    {
      "cell_type": "code",
      "metadata": {
        "id": "RKYXpcw390qk",
        "colab": {
          "base_uri": "https://localhost:8080/"
        },
        "outputId": "95884d1b-c879-4f5b-e438-3363fba78b98"
      },
      "source": [
        "string = \"Hello World!\"\n",
        "print(string, \", Current COVID count is:\", cnt)\n",
        "cnt += 1000"
      ],
      "execution_count": null,
      "outputs": [
        {
          "output_type": "stream",
          "name": "stdout",
          "text": [
            "Hello World! , Current COVID count is: 14000\n"
          ]
        }
      ]
    },
    {
      "cell_type": "code",
      "metadata": {
        "colab": {
          "base_uri": "https://localhost:8080/"
        },
        "id": "4GeDdxis-Mg5",
        "outputId": "572e2845-0650-4d42-d140-11414f14079e"
      },
      "source": [
        "print(f\"{string}, current count is: {cnt}\")"
      ],
      "execution_count": null,
      "outputs": [
        {
          "output_type": "stream",
          "name": "stdout",
          "text": [
            "Hello World!, current count is: 15000\n"
          ]
        }
      ]
    },
    {
      "cell_type": "code",
      "metadata": {
        "colab": {
          "base_uri": "https://localhost:8080/"
        },
        "id": "IZr7GU-f-vgR",
        "outputId": "38017220-d8b1-4675-bfc7-42ceb81c06cf"
      },
      "source": [
        "sem_grade = 86.25\n",
        "name =\"Andrei\"\n",
        "print(\"Hello {}, your semestral grade is :{}\" . format(name, sem_grade))"
      ],
      "execution_count": null,
      "outputs": [
        {
          "output_type": "stream",
          "name": "stdout",
          "text": [
            "Hello Andrei, your semestral grade is :86.25\n"
          ]
        }
      ]
    },
    {
      "cell_type": "code",
      "metadata": {
        "colab": {
          "base_uri": "https://localhost:8080/"
        },
        "id": "wQhveWbZ_sSh",
        "outputId": "8c2b8bf6-00bd-47a3-d6df-ad13d7880361"
      },
      "source": [
        "pg, mg, fg = 0.3, 0.3, 0.4\n",
        "print(\"The weights of your semestral grades are:\\\n",
        "\\n\\t {:.2%} for Prelims\\\n",
        "\\n\\t {:.2%} for Midterms, and \\\n",
        "\\n\\t {:.2%} for Finals.\".format(pg, mg, fg))"
      ],
      "execution_count": null,
      "outputs": [
        {
          "output_type": "stream",
          "name": "stdout",
          "text": [
            "The weights of your semestral grades are:\n",
            "\t 30.00% for Prelims\n",
            "\t 30.00% for Midterms, and \n",
            "\t 40.00% for Finals.\n"
          ]
        }
      ]
    },
    {
      "cell_type": "code",
      "metadata": {
        "colab": {
          "base_uri": "https://localhost:8080/"
        },
        "id": "51xoUMcLAfO-",
        "outputId": "fe511c48-0581-4162-c100-f41faa63e84e"
      },
      "source": [
        "e= input(\"Enter a number:\")"
      ],
      "execution_count": null,
      "outputs": [
        {
          "name": "stdout",
          "output_type": "stream",
          "text": [
            "Enter a number:1\n"
          ]
        }
      ]
    },
    {
      "cell_type": "code",
      "metadata": {
        "colab": {
          "base_uri": "https://localhost:8080/"
        },
        "id": "Aswl9TyZArCX",
        "outputId": "c9af0edd-c0ef-4936-e8d0-d553f685a82a"
      },
      "source": [
        "name = input(\"Enter your name: \")\n",
        "pg = input(\"Enter prelim grade: \")\n",
        "mg = input(\"Enter midterm grade: \")\n",
        "fg = input(\"Enter final grade: \")\n",
        "sem_grade = None\n",
        "print(\"Hello {}, your semestral grade is: {}\".format(name, sem_grade))"
      ],
      "execution_count": null,
      "outputs": [
        {
          "output_type": "stream",
          "name": "stdout",
          "text": [
            "Enter your name: Andrei\n",
            "Enter prelim grade: 21\n",
            "Enter midterm grade: 21\n",
            "Enter final grade: 1\n",
            "Hello Andrei, your semestral grade is: None\n"
          ]
        }
      ]
    },
    {
      "cell_type": "markdown",
      "metadata": {
        "id": "0Rg9mYVlBi_w"
      },
      "source": [
        "## Looping Statements\n",
        "It is used to iterate over a sequence or iterable objects."
      ]
    },
    {
      "cell_type": "markdown",
      "metadata": {
        "id": "jYcbi450BpOW"
      },
      "source": [
        "While loop is used to execute a block of statements repeatedly until a given condition is satisfied. "
      ]
    },
    {
      "cell_type": "code",
      "metadata": {
        "colab": {
          "base_uri": "https://localhost:8080/"
        },
        "id": "wqDmTp0eBs95",
        "outputId": "8b74b419-4320-417e-aafb-bbfab18fd848"
      },
      "source": [
        "## white loops\n",
        "i, j = 0, 10\n",
        "while(i<=j):\n",
        "  print(f\"{i}\\t|\\t{j}\")\n",
        "  i += 1"
      ],
      "execution_count": null,
      "outputs": [
        {
          "output_type": "stream",
          "name": "stdout",
          "text": [
            "0\t|\t10\n",
            "1\t|\t10\n",
            "2\t|\t10\n",
            "3\t|\t10\n",
            "4\t|\t10\n",
            "5\t|\t10\n",
            "6\t|\t10\n",
            "7\t|\t10\n",
            "8\t|\t10\n",
            "9\t|\t10\n",
            "10\t|\t10\n"
          ]
        }
      ]
    },
    {
      "cell_type": "markdown",
      "metadata": {
        "id": "QclTLUieCXuK"
      },
      "source": [
        "## For\n",
        "It is a control flow statement that is used to repeatedly execute a group of statements as long as the condition is satisfied."
      ]
    },
    {
      "cell_type": "code",
      "metadata": {
        "colab": {
          "base_uri": "https://localhost:8080/"
        },
        "id": "p1DUcxBzCZ9b",
        "outputId": "66d70396-6db6-4a00-db6d-349922e688d0"
      },
      "source": [
        "# for(int=0; i<10; i++){\n",
        "# printf(i)\n",
        "# }\n",
        "\n",
        "i = 0\n",
        "for i in range(11):\n",
        "  print(i)"
      ],
      "execution_count": null,
      "outputs": [
        {
          "output_type": "stream",
          "name": "stdout",
          "text": [
            "0\n",
            "1\n",
            "2\n",
            "3\n",
            "4\n",
            "5\n",
            "6\n",
            "7\n",
            "8\n",
            "9\n",
            "10\n"
          ]
        }
      ]
    },
    {
      "cell_type": "code",
      "metadata": {
        "colab": {
          "base_uri": "https://localhost:8080/"
        },
        "id": "w9Jr3YheC2yo",
        "outputId": "31d8afeb-6bfb-4a85-a42e-6f03d21365d9"
      },
      "source": [
        "playlist = [\"Bahay Kubo\", \"Magandang Kanta\", \"Buko\"]\n",
        "print('Now Playing:\\n')\n",
        "for song in playlist:\n",
        "  print(song)"
      ],
      "execution_count": null,
      "outputs": [
        {
          "output_type": "stream",
          "name": "stdout",
          "text": [
            "Now Playing:\n",
            "\n",
            "Bahay Kubo\n",
            "Magandang Kanta\n",
            "Buko\n"
          ]
        }
      ]
    },
    {
      "cell_type": "markdown",
      "metadata": {
        "id": "8RdqgK1YDQTs"
      },
      "source": [
        "## Flow Control \n",
        "It is the order in which the program's code executes."
      ]
    },
    {
      "cell_type": "markdown",
      "metadata": {
        "id": "UbeHd5PtDXWi"
      },
      "source": [
        "condition statements"
      ]
    },
    {
      "cell_type": "code",
      "metadata": {
        "colab": {
          "base_uri": "https://localhost:8080/"
        },
        "id": "YT0-754DDZPK",
        "outputId": "b27422e0-8a3d-4279-ebf7-f3e399181400"
      },
      "source": [
        "num_1, num_2 =14, 12\n",
        "if(num_1 == num_2):\n",
        "  print(\"HAHA\")\n",
        "elif(num_1>num_2):\n",
        "  print(\"HOHO\")\n",
        "else:\n",
        "  print(\"HUHU\")"
      ],
      "execution_count": null,
      "outputs": [
        {
          "output_type": "stream",
          "name": "stdout",
          "text": [
            "HOHO\n"
          ]
        }
      ]
    },
    {
      "cell_type": "markdown",
      "metadata": {
        "id": "I3QHoIcLDx_B"
      },
      "source": [
        "## Functions\n",
        "It is a block of code which only runs when it is called. "
      ]
    },
    {
      "cell_type": "code",
      "metadata": {
        "id": "2e2PlIyTECq5"
      },
      "source": [
        "# void DeleteUser (int userid){\n",
        "# delete(userid);\n",
        "#}\n",
        "\n",
        "def delete_user (userid):\n",
        "  print(\"Successfully deleted user {}\". format(userid))"
      ],
      "execution_count": null,
      "outputs": []
    },
    {
      "cell_type": "code",
      "metadata": {
        "colab": {
          "base_uri": "https://localhost:8080/"
        },
        "id": "T0XIKH5LEaDX",
        "outputId": "67bab4b9-04a0-48b9-8ef6-b3ed1ea3d4eb"
      },
      "source": [
        "userid = 2020_100100\n",
        "delete_user(2020_100100)"
      ],
      "execution_count": null,
      "outputs": [
        {
          "output_type": "stream",
          "name": "stdout",
          "text": [
            "Successfully deleted user 2020100100\n"
          ]
        }
      ]
    },
    {
      "cell_type": "code",
      "metadata": {
        "id": "UkoGzraWEntH"
      },
      "source": [
        "added1, added2 = 5, 6"
      ],
      "execution_count": null,
      "outputs": []
    },
    {
      "cell_type": "code",
      "metadata": {
        "id": "gcpF9GLqE02t"
      },
      "source": [
        "def add(added1, added2):\n",
        "  sum =added1 + added2\n",
        "  return sum"
      ],
      "execution_count": null,
      "outputs": []
    },
    {
      "cell_type": "code",
      "metadata": {
        "colab": {
          "base_uri": "https://localhost:8080/"
        },
        "id": "9zTywmP9FKJJ",
        "outputId": "255efd03-c708-43c4-f650-b1ce19120385"
      },
      "source": [
        "add(5, 4)"
      ],
      "execution_count": null,
      "outputs": [
        {
          "output_type": "execute_result",
          "data": {
            "text/plain": [
              "9"
            ]
          },
          "metadata": {},
          "execution_count": 45
        }
      ]
    },
    {
      "cell_type": "markdown",
      "metadata": {
        "id": "ocEGofIuV8PQ"
      },
      "source": [
        "## Resources \n",
        "\n",
        "   [1] Variables and Data Types (2021)- https://www.edureka.co/blog/variables-and-data-types-in-python/\n",
        "\n",
        "   [2] Operations, Arithmetic- (n.d.)- https://www.programiz.com/python-programming/operators\n",
        "\n",
        "   [3] Assignment(2021)- https://lerner.co.il/2019/06/18/understanding-python-assignment/\n",
        "\n",
        "   [4] Comparators(2020)- https://medium.com/voice-of-code/sorting-comparator-21d98c192bbb\n",
        "\n",
        "   [5] Logical(2021)- https://geek-university.com/python/logical-operators/#:~:text=The%20logical%20operators%20in%20Python,out%20their%20resultant%20truth%20value.\n",
        "\n",
        "   [6] Input and Output(2020)- https://www.decodejava.com/python-input-output.htm\n",
        "\n",
        "   [7] Looping Statements(n.d.)- https://www.programiz.com/python-programming/for-loop?fbclid=IwAR282sQVq-pIkpVp2F0amhV09qkrZHvrkIFsZv3xsMsOwwGEGtxuoAeP4Ag\n",
        "\n",
        "   [8] While(2021)- https://www.geeksforgeeks.org/python-while-loop/\n",
        "\n",
        "   [9] For(2020)- https://study.com/academy/lesson/for-loops-in-python-definition-examples.html\n",
        "\n",
        "   [10] Flow Control(n.d.)- https://www.educative.io/edpresso/what-are-control-flow-statements-in-python\n",
        "\n",
        "   [11] Functions(n.d.)- https://www.w3schools.com/python/python_functions.asp"
      ]
    }
  ]
}